{
 "cells": [
  {
   "cell_type": "code",
   "execution_count": 1,
   "metadata": {
    "_uuid": "ab46e32ac3f31fff930a3ca54a88ba7192a15227",
    "collapsed": true,
    "jupyter": {
     "outputs_hidden": true
    }
   },
   "outputs": [],
   "source": []
  },
  {
   "cell_type": "code",
   "execution_count": 1,
   "metadata": {
    "_cell_guid": "79c7e3d0-c299-4dcb-8224-4455121ee9b0",
    "_uuid": "d629ff2d2480ee46fbb7e2d37f6b5fab8052498a",
    "execution": {
     "iopub.execute_input": "2025-03-04T00:59:55.220783Z",
     "iopub.status.busy": "2025-03-04T00:59:55.220194Z",
     "iopub.status.idle": "2025-03-04T00:59:56.061697Z",
     "shell.execute_reply": "2025-03-04T00:59:56.060878Z",
     "shell.execute_reply.started": "2025-03-04T00:59:55.220431Z"
    }
   },
   "outputs": [
    {
     "data": {
      "text/html": [
       "<div>\n",
       "<style scoped>\n",
       "    .dataframe tbody tr th:only-of-type {\n",
       "        vertical-align: middle;\n",
       "    }\n",
       "\n",
       "    .dataframe tbody tr th {\n",
       "        vertical-align: top;\n",
       "    }\n",
       "\n",
       "    .dataframe thead th {\n",
       "        text-align: right;\n",
       "    }\n",
       "</style>\n",
       "<table border=\"1\" class=\"dataframe\">\n",
       "  <thead>\n",
       "    <tr style=\"text-align: right;\">\n",
       "      <th></th>\n",
       "      <th>gender</th>\n",
       "      <th>readmitted</th>\n",
       "    </tr>\n",
       "  </thead>\n",
       "  <tbody>\n",
       "    <tr>\n",
       "      <th>0</th>\n",
       "      <td>Female</td>\n",
       "      <td>NO</td>\n",
       "    </tr>\n",
       "    <tr>\n",
       "      <th>1</th>\n",
       "      <td>Female</td>\n",
       "      <td>&gt;30</td>\n",
       "    </tr>\n",
       "    <tr>\n",
       "      <th>2</th>\n",
       "      <td>Female</td>\n",
       "      <td>NO</td>\n",
       "    </tr>\n",
       "    <tr>\n",
       "      <th>3</th>\n",
       "      <td>Male</td>\n",
       "      <td>NO</td>\n",
       "    </tr>\n",
       "    <tr>\n",
       "      <th>4</th>\n",
       "      <td>Male</td>\n",
       "      <td>NO</td>\n",
       "    </tr>\n",
       "  </tbody>\n",
       "</table>\n",
       "</div>"
      ],
      "text/plain": [
       "   gender readmitted\n",
       "0  Female         NO\n",
       "1  Female        >30\n",
       "2  Female         NO\n",
       "3    Male         NO\n",
       "4    Male         NO"
      ]
     },
     "execution_count": 1,
     "metadata": {},
     "output_type": "execute_result"
    }
   ],
   "source": [
    "# Import Libraries \n",
    "import pandas as pd\n",
    "from pandas.plotting import scatter_matrix\n",
    "import matplotlib.pyplot as plt\n",
    "import numpy as np\n",
    "import matplotlib.pyplot as plt\n",
    "from sklearn import model_selection\n",
    "from sklearn.metrics import classification_report\n",
    "from sklearn.metrics import confusion_matrix\n",
    "from sklearn.metrics import accuracy_score\n",
    "from sklearn.linear_model import LogisticRegression\n",
    "\n",
    "# read in all our data\n",
    "diabet_data = pd.read_csv(\"/kaggle/input/diabetic-data-cleaning/diabetic_data.csv\")\n",
    "data =pd.read_csv('/kaggle/input/preprocessed-data/DataPreprocessing.csv')\n",
    "#fetch requred data\n",
    "target = diabet_data[['gender', 'readmitted']]\n",
    "\n",
    "target.head()\n"
   ]
  },
  {
   "cell_type": "code",
   "execution_count": 2,
   "metadata": {
    "_cell_guid": "70f7021b-dae0-4896-8952-7406a0dcf921",
    "_uuid": "56aae63160b12239547f5990ad2f1cf8c6686601",
    "execution": {
     "iopub.execute_input": "2025-03-04T01:00:04.111432Z",
     "iopub.status.busy": "2025-03-04T01:00:04.111022Z",
     "iopub.status.idle": "2025-03-04T01:00:04.212077Z",
     "shell.execute_reply": "2025-03-04T01:00:04.211180Z",
     "shell.execute_reply.started": "2025-03-04T01:00:04.111350Z"
    }
   },
   "outputs": [],
   "source": [
    "# Convert string to numbers\n",
    "target = target.replace(['Female','Male','NO','>30','<30'],[0,1,2,1,0])\n",
    "target = target.drop('gender', axis=1)\n",
    "df = data.join(target)\n"
   ]
  },
  {
   "cell_type": "code",
   "execution_count": 3,
   "metadata": {
    "_cell_guid": "80850883-6879-43c2-9c92-739356b072af",
    "_uuid": "41407757805cd3353fbdb9d9809a3ee303ed5f52",
    "execution": {
     "iopub.execute_input": "2025-03-04T01:00:06.527406Z",
     "iopub.status.busy": "2025-03-04T01:00:06.527071Z",
     "iopub.status.idle": "2025-03-04T01:00:06.557481Z",
     "shell.execute_reply": "2025-03-04T01:00:06.556548Z",
     "shell.execute_reply.started": "2025-03-04T01:00:06.527347Z"
    }
   },
   "outputs": [
    {
     "data": {
      "text/html": [
       "<div>\n",
       "<style scoped>\n",
       "    .dataframe tbody tr th:only-of-type {\n",
       "        vertical-align: middle;\n",
       "    }\n",
       "\n",
       "    .dataframe tbody tr th {\n",
       "        vertical-align: top;\n",
       "    }\n",
       "\n",
       "    .dataframe thead th {\n",
       "        text-align: right;\n",
       "    }\n",
       "</style>\n",
       "<table border=\"1\" class=\"dataframe\">\n",
       "  <thead>\n",
       "    <tr style=\"text-align: right;\">\n",
       "      <th></th>\n",
       "      <th>race</th>\n",
       "      <th>gender</th>\n",
       "      <th>age</th>\n",
       "      <th>num_procedures</th>\n",
       "      <th>num_medications</th>\n",
       "      <th>number_emergency</th>\n",
       "      <th>number_inpatient</th>\n",
       "      <th>max_glu_serum</th>\n",
       "      <th>A1Cresult</th>\n",
       "      <th>insulin</th>\n",
       "      <th>...</th>\n",
       "      <th>diag_1_category</th>\n",
       "      <th>diag_2_category</th>\n",
       "      <th>diag_3_category</th>\n",
       "      <th>sulfonylureas</th>\n",
       "      <th>biguanides</th>\n",
       "      <th>thiazolidinediones</th>\n",
       "      <th>meglitinides</th>\n",
       "      <th>alpha_glucosidase_inhibitors</th>\n",
       "      <th>other_combination_therapies</th>\n",
       "      <th>readmitted</th>\n",
       "    </tr>\n",
       "  </thead>\n",
       "  <tbody>\n",
       "    <tr>\n",
       "      <th>0</th>\n",
       "      <td>2</td>\n",
       "      <td>0</td>\n",
       "      <td>20.0</td>\n",
       "      <td>0</td>\n",
       "      <td>0.0000</td>\n",
       "      <td>0</td>\n",
       "      <td>0.0</td>\n",
       "      <td>2</td>\n",
       "      <td>2</td>\n",
       "      <td>1</td>\n",
       "      <td>...</td>\n",
       "      <td>1.5</td>\n",
       "      <td>1</td>\n",
       "      <td>1</td>\n",
       "      <td>0</td>\n",
       "      <td>0</td>\n",
       "      <td>0</td>\n",
       "      <td>0</td>\n",
       "      <td>0</td>\n",
       "      <td>0</td>\n",
       "      <td>2</td>\n",
       "    </tr>\n",
       "    <tr>\n",
       "      <th>1</th>\n",
       "      <td>2</td>\n",
       "      <td>0</td>\n",
       "      <td>20.0</td>\n",
       "      <td>0</td>\n",
       "      <td>0.2125</td>\n",
       "      <td>0</td>\n",
       "      <td>0.0</td>\n",
       "      <td>2</td>\n",
       "      <td>2</td>\n",
       "      <td>3</td>\n",
       "      <td>...</td>\n",
       "      <td>1.5</td>\n",
       "      <td>1</td>\n",
       "      <td>1</td>\n",
       "      <td>0</td>\n",
       "      <td>0</td>\n",
       "      <td>0</td>\n",
       "      <td>0</td>\n",
       "      <td>0</td>\n",
       "      <td>0</td>\n",
       "      <td>1</td>\n",
       "    </tr>\n",
       "    <tr>\n",
       "      <th>2</th>\n",
       "      <td>2</td>\n",
       "      <td>0</td>\n",
       "      <td>20.0</td>\n",
       "      <td>5</td>\n",
       "      <td>0.1500</td>\n",
       "      <td>0</td>\n",
       "      <td>1.0</td>\n",
       "      <td>2</td>\n",
       "      <td>2</td>\n",
       "      <td>1</td>\n",
       "      <td>...</td>\n",
       "      <td>4.0</td>\n",
       "      <td>1</td>\n",
       "      <td>6</td>\n",
       "      <td>1</td>\n",
       "      <td>0</td>\n",
       "      <td>0</td>\n",
       "      <td>0</td>\n",
       "      <td>0</td>\n",
       "      <td>0</td>\n",
       "      <td>2</td>\n",
       "    </tr>\n",
       "    <tr>\n",
       "      <th>3</th>\n",
       "      <td>2</td>\n",
       "      <td>1</td>\n",
       "      <td>30.0</td>\n",
       "      <td>1</td>\n",
       "      <td>0.1875</td>\n",
       "      <td>0</td>\n",
       "      <td>0.0</td>\n",
       "      <td>2</td>\n",
       "      <td>2</td>\n",
       "      <td>3</td>\n",
       "      <td>...</td>\n",
       "      <td>5.0</td>\n",
       "      <td>1</td>\n",
       "      <td>3</td>\n",
       "      <td>0</td>\n",
       "      <td>0</td>\n",
       "      <td>0</td>\n",
       "      <td>0</td>\n",
       "      <td>0</td>\n",
       "      <td>0</td>\n",
       "      <td>2</td>\n",
       "    </tr>\n",
       "    <tr>\n",
       "      <th>4</th>\n",
       "      <td>2</td>\n",
       "      <td>1</td>\n",
       "      <td>40.0</td>\n",
       "      <td>0</td>\n",
       "      <td>0.0875</td>\n",
       "      <td>0</td>\n",
       "      <td>0.0</td>\n",
       "      <td>2</td>\n",
       "      <td>2</td>\n",
       "      <td>2</td>\n",
       "      <td>...</td>\n",
       "      <td>1.5</td>\n",
       "      <td>0</td>\n",
       "      <td>1</td>\n",
       "      <td>1</td>\n",
       "      <td>0</td>\n",
       "      <td>0</td>\n",
       "      <td>0</td>\n",
       "      <td>0</td>\n",
       "      <td>0</td>\n",
       "      <td>2</td>\n",
       "    </tr>\n",
       "  </tbody>\n",
       "</table>\n",
       "<p>5 rows × 24 columns</p>\n",
       "</div>"
      ],
      "text/plain": [
       "   race  gender   age  num_procedures  num_medications  number_emergency  \\\n",
       "0     2       0  20.0               0           0.0000                 0   \n",
       "1     2       0  20.0               0           0.2125                 0   \n",
       "2     2       0  20.0               5           0.1500                 0   \n",
       "3     2       1  30.0               1           0.1875                 0   \n",
       "4     2       1  40.0               0           0.0875                 0   \n",
       "\n",
       "   number_inpatient  max_glu_serum  A1Cresult  insulin     ...      \\\n",
       "0               0.0              2          2        1     ...       \n",
       "1               0.0              2          2        3     ...       \n",
       "2               1.0              2          2        1     ...       \n",
       "3               0.0              2          2        3     ...       \n",
       "4               0.0              2          2        2     ...       \n",
       "\n",
       "   diag_1_category  diag_2_category  diag_3_category  sulfonylureas  \\\n",
       "0              1.5                1                1              0   \n",
       "1              1.5                1                1              0   \n",
       "2              4.0                1                6              1   \n",
       "3              5.0                1                3              0   \n",
       "4              1.5                0                1              1   \n",
       "\n",
       "   biguanides  thiazolidinediones  meglitinides  alpha_glucosidase_inhibitors  \\\n",
       "0           0                   0             0                             0   \n",
       "1           0                   0             0                             0   \n",
       "2           0                   0             0                             0   \n",
       "3           0                   0             0                             0   \n",
       "4           0                   0             0                             0   \n",
       "\n",
       "   other_combination_therapies  readmitted  \n",
       "0                            0           2  \n",
       "1                            0           1  \n",
       "2                            0           2  \n",
       "3                            0           2  \n",
       "4                            0           2  \n",
       "\n",
       "[5 rows x 24 columns]"
      ]
     },
     "execution_count": 3,
     "metadata": {},
     "output_type": "execute_result"
    }
   ],
   "source": [
    "df.head()"
   ]
  },
  {
   "cell_type": "code",
   "execution_count": 4,
   "metadata": {
    "_cell_guid": "f3e52bad-fc86-4b57-bfa9-86ae81e3ff85",
    "_uuid": "8a89ec2c59d1a4a70a1edf4396f59a47c486b5af",
    "execution": {
     "iopub.execute_input": "2025-03-04T01:00:15.302649Z",
     "iopub.status.busy": "2025-03-04T01:00:15.302338Z",
     "iopub.status.idle": "2025-03-04T01:00:15.464476Z",
     "shell.execute_reply": "2025-03-04T01:00:15.463466Z",
     "shell.execute_reply.started": "2025-03-04T01:00:15.302611Z"
    }
   },
   "outputs": [
    {
     "data": {
      "image/png": "[encoded data removed]",
      "text/plain": [
       "<matplotlib.figure.Figure at 0x7a625762db70>"
      ]
     },
     "metadata": {},
     "output_type": "display_data"
    }
   ],
   "source": [
    "# show histograms of readmitted\n",
    "df = df.readmitted.hist()\n",
    "plt.show()"
   ]
  },
  {
   "cell_type": "code",
   "execution_count": 5,
   "metadata": {
    "_cell_guid": "9b4f6f46-91bc-4c41-b2bf-5cdbfaf09f30",
    "_uuid": "c062c3cd8518aefb091590113bf1482ab8e4344a",
    "execution": {
     "iopub.execute_input": "2025-03-04T01:03:14.929837Z",
     "iopub.status.busy": "2025-03-04T01:03:14.929420Z",
     "iopub.status.idle": "2025-03-04T01:03:18.197158Z",
     "shell.execute_reply": "2025-03-04T01:03:18.196184Z",
     "shell.execute_reply.started": "2025-03-04T01:03:14.929769Z"
    }
   },
   "outputs": [
    {
     "name": "stderr",
     "output_type": "stream",
     "text": [
      "/opt/conda/lib/python3.6/site-packages/sklearn/utils/validation.py:578: DataConversionWarning: A column-vector y was passed when a 1d array was expected. Please change the shape of y to (n_samples, ), for example using ravel().\n",
      "  y = column_or_1d(y, warn=True)\n"
     ]
    },
    {
     "name": "stdout",
     "output_type": "stream",
     "text": [
      "Logistic Regression Evaluation:\n",
      "Accuracy: 1.0\n",
      "Confusion Matrix:\n",
      "[[ 2285     0     0]\n",
      " [    0  7117     0]\n",
      " [    0     0 10952]]\n",
      "Classification Report:\n",
      "             precision    recall  f1-score   support\n",
      "\n",
      "          0       1.00      1.00      1.00      2285\n",
      "          1       1.00      1.00      1.00      7117\n",
      "          2       1.00      1.00      1.00     10952\n",
      "\n",
      "avg / total       1.00      1.00      1.00     20354\n",
      "\n"
     ]
    }
   ],
   "source": [
    "import pandas as pd\n",
    "from sklearn.model_selection import train_test_split\n",
    "from sklearn.linear_model import LogisticRegression\n",
    "from sklearn.metrics import classification_report, confusion_matrix, accuracy_score\n",
    "\n",
    "# Assuming 'df' is your DataFrame\n",
    "\n",
    "# Define features (X) and target (y)\n",
    "X = data  # Drop the 'readmitted' column from features\n",
    "y = target  # The 'readmitted' column is the target\n",
    "\n",
    "# Split the data into training and testing sets (80% training, 20% testing)\n",
    "X_train, X_test, y_train, y_test = train_test_split(X, y, test_size=0.2, random_state=42)\n",
    "\n",
    "# Initialize the Logistic Regression model\n",
    "model_lr = LogisticRegression(max_iter=1000)\n",
    "\n",
    "# Fit the model\n",
    "model_lr.fit(X_train, y_train)\n",
    "\n",
    "# Predict on the test set\n",
    "y_pred_lr = model_lr.predict(X_test)\n",
    "\n",
    "# Evaluate the model\n",
    "print(\"Logistic Regression Evaluation:\")\n",
    "print(f\"Accuracy: {accuracy_score(y_test, y_pred_lr)}\")\n",
    "print(f\"Confusion Matrix:\\n{confusion_matrix(y_test, y_pred_lr)}\")\n",
    "print(f\"Classification Report:\\n{classification_report(y_test, y_pred_lr)}\")\n"
   ]
  }
 ],
 "metadata": {
  "kaggle": {
   "accelerator": "none",
   "dataSources": [
    {
     "datasetId": 17818,
     "sourceId": 23350,
     "sourceType": "datasetVersion"
    },
    {
     "datasetId": 6783413,
     "sourceId": 10912345,
     "sourceType": "datasetVersion"
    }
   ],
   "dockerImageVersionId": 283,
   "isGpuEnabled": false,
   "isInternetEnabled": false,
   "language": "python",
   "sourceType": "notebook"
  },
  "kernelspec": {
   "display_name": "Python 3",
   "language": "python",
   "name": "python3"
  },
  "language_info": {
   "codemirror_mode": {
    "name": "ipython",
    "version": 3
   },
   "file_extension": ".py",
   "mimetype": "text/x-python",
   "name": "python",
   "nbconvert_exporter": "python",
   "pygments_lexer": "ipython3",
   "version": "3.6.4"
  }
 },
 "nbformat": 4,
 "nbformat_minor": 4
}
