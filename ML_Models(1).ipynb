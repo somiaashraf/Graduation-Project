{
  "nbformat": 4,
  "nbformat_minor": 0,
  "metadata": {
    "colab": {
      "provenance": [],
      "gpuType": "T4"
    },
    "kernelspec": {
      "name": "python3",
      "display_name": "Python 3"
    },
    "language_info": {
      "name": "python"
    },
    "accelerator": "GPU"
  },
  "cells": [
    {
      "cell_type": "code",
      "execution_count": 41,
      "metadata": {
        "id": "6-BUujMG7DDS"
      },
      "outputs": [],
      "source": [
        "# Import Libraries\n",
        "import pandas as pd\n",
        "import numpy as np\n",
        "import seaborn as sns\n",
        "import matplotlib.pyplot as plt\n",
        "from pandas.plotting import scatter_matrix\n",
        "\n",
        "# Importing machine learning models and evaluation metrics\n",
        "from sklearn.model_selection import train_test_split,GridSearchCV,RandomizedSearchCV\n",
        "from sklearn.metrics import accuracy_score, classification_report, confusion_matrix, ConfusionMatrixDisplay\n",
        "from sklearn.linear_model import LogisticRegression\n",
        "from sklearn.ensemble import RandomForestClassifier,GradientBoostingClassifier\n",
        "from sklearn.svm import SVC\n",
        "from xgboost import XGBClassifier\n",
        "from sklearn.neighbors import KNeighborsClassifier\n",
        "from sklearn.naive_bayes import GaussianNB\n",
        "from sklearn.tree import DecisionTreeClassifier\n",
        "from sklearn.preprocessing import StandardScaler\n",
        "import scipy.stats as stats\n",
        "from scipy.stats import uniform"
      ]
    },
    {
      "cell_type": "code",
      "source": [
        "data = pd.read_csv(\"/content/DataPreprocessing.csv\")\n",
        "\n",
        "data"
      ],
      "metadata": {
        "colab": {
          "base_uri": "https://localhost:8080/",
          "height": 444
        },
        "id": "4Id-4_TA7aUo",
        "outputId": "ad783482-2e78-4c36-b4b7-aa2b13194bb4"
      },
      "execution_count": 42,
      "outputs": [
        {
          "output_type": "execute_result",
          "data": {
            "text/plain": [
              "       race  gender   age  num_procedures  num_medications  number_emergency  \\\n",
              "0         2       0  20.0               0        -1.752413                 0   \n",
              "1         2       0  20.0               0         0.332867                 0   \n",
              "2         2       0  20.0               5        -0.280451                 0   \n",
              "3         2       1  30.0               1         0.087540                 0   \n",
              "4         2       1  40.0               0        -0.893768                 0   \n",
              "...     ...     ...   ...             ...              ...               ...   \n",
              "12752     2       1  20.0               0        -1.629749                 0   \n",
              "12753     2       0  70.0               1        -0.893768                 0   \n",
              "12754     2       0  70.0               3         0.455530                 0   \n",
              "12755     2       0  70.0               5         1.314174                 0   \n",
              "12756     2       1  70.0               1         0.210203                 0   \n",
              "\n",
              "       number_inpatient  max_glu_serum  A1Cresult  insulin  ...  \\\n",
              "0                   0.0              2          2      1.0  ...   \n",
              "1                   0.0              2          2      3.0  ...   \n",
              "2                   1.0              2          2      1.0  ...   \n",
              "3                   0.0              2          2      3.0  ...   \n",
              "4                   0.0              2          2      2.0  ...   \n",
              "...                 ...            ...        ...      ...  ...   \n",
              "12752               2.5              2          2      2.0  ...   \n",
              "12753               0.0              2          2      2.0  ...   \n",
              "12754               0.0              2          2      1.0  ...   \n",
              "12755               0.0              2          2      1.0  ...   \n",
              "12756               0.0              2          2      3.5  ...   \n",
              "\n",
              "       time_diagnoses_interaction  diag_1_category  diag_2_category  \\\n",
              "0                             1.0                3                1   \n",
              "1                            27.0                3                1   \n",
              "2                            12.0                3                1   \n",
              "3                            14.0                3                1   \n",
              "4                             5.0                3                0   \n",
              "...                           ...              ...              ...   \n",
              "12752                         4.0                3                1   \n",
              "12753                        27.0                3                3   \n",
              "12754                        50.0                3                3   \n",
              "12755                        36.0                3                4   \n",
              "12756                         NaN                3                6   \n",
              "\n",
              "       diag_3_category  sulfonylureas  biguanides  thiazolidinediones  \\\n",
              "0                    1            0.0           0                   0   \n",
              "1                    1            0.0           0                   0   \n",
              "2                    6            1.0           0                   0   \n",
              "3                    3            0.0           0                   0   \n",
              "4                    1            1.0           0                   0   \n",
              "...                ...            ...         ...                 ...   \n",
              "12752                3            0.0           0                   0   \n",
              "12753                3            0.0           0                   0   \n",
              "12754                1            0.0           0                   0   \n",
              "12755                4            1.0           0                   0   \n",
              "12756                1            2.5           0                   0   \n",
              "\n",
              "       meglitinides  alpha_glucosidase_inhibitors  other_combination_therapies  \n",
              "0                 0                             0                            0  \n",
              "1                 0                             0                            0  \n",
              "2                 0                             0                            0  \n",
              "3                 0                             0                            0  \n",
              "4                 0                             0                            0  \n",
              "...             ...                           ...                          ...  \n",
              "12752             0                             0                            0  \n",
              "12753             0                             0                            0  \n",
              "12754             0                             0                            0  \n",
              "12755             0                             0                            0  \n",
              "12756             0                             0                            0  \n",
              "\n",
              "[12757 rows x 23 columns]"
            ],
            "text/html": [
              "\n",
              "  <div id=\"df-3400d950-9f22-4488-b500-98480c0ab1e5\" class=\"colab-df-container\">\n",
              "    <div>\n",
              "<style scoped>\n",
              "    .dataframe tbody tr th:only-of-type {\n",
              "        vertical-align: middle;\n",
              "    }\n",
              "\n",
              "    .dataframe tbody tr th {\n",
              "        vertical-align: top;\n",
              "    }\n",
              "\n",
              "    .dataframe thead th {\n",
              "        text-align: right;\n",
              "    }\n",
              "</style>\n",
              "<table border=\"1\" class=\"dataframe\">\n",
              "  <thead>\n",
              "    <tr style=\"text-align: right;\">\n",
              "      <th></th>\n",
              "      <th>race</th>\n",
              "      <th>gender</th>\n",
              "      <th>age</th>\n",
              "      <th>num_procedures</th>\n",
              "      <th>num_medications</th>\n",
              "      <th>number_emergency</th>\n",
              "      <th>number_inpatient</th>\n",
              "      <th>max_glu_serum</th>\n",
              "      <th>A1Cresult</th>\n",
              "      <th>insulin</th>\n",
              "      <th>...</th>\n",
              "      <th>time_diagnoses_interaction</th>\n",
              "      <th>diag_1_category</th>\n",
              "      <th>diag_2_category</th>\n",
              "      <th>diag_3_category</th>\n",
              "      <th>sulfonylureas</th>\n",
              "      <th>biguanides</th>\n",
              "      <th>thiazolidinediones</th>\n",
              "      <th>meglitinides</th>\n",
              "      <th>alpha_glucosidase_inhibitors</th>\n",
              "      <th>other_combination_therapies</th>\n",
              "    </tr>\n",
              "  </thead>\n",
              "  <tbody>\n",
              "    <tr>\n",
              "      <th>0</th>\n",
              "      <td>2</td>\n",
              "      <td>0</td>\n",
              "      <td>20.0</td>\n",
              "      <td>0</td>\n",
              "      <td>-1.752413</td>\n",
              "      <td>0</td>\n",
              "      <td>0.0</td>\n",
              "      <td>2</td>\n",
              "      <td>2</td>\n",
              "      <td>1.0</td>\n",
              "      <td>...</td>\n",
              "      <td>1.0</td>\n",
              "      <td>3</td>\n",
              "      <td>1</td>\n",
              "      <td>1</td>\n",
              "      <td>0.0</td>\n",
              "      <td>0</td>\n",
              "      <td>0</td>\n",
              "      <td>0</td>\n",
              "      <td>0</td>\n",
              "      <td>0</td>\n",
              "    </tr>\n",
              "    <tr>\n",
              "      <th>1</th>\n",
              "      <td>2</td>\n",
              "      <td>0</td>\n",
              "      <td>20.0</td>\n",
              "      <td>0</td>\n",
              "      <td>0.332867</td>\n",
              "      <td>0</td>\n",
              "      <td>0.0</td>\n",
              "      <td>2</td>\n",
              "      <td>2</td>\n",
              "      <td>3.0</td>\n",
              "      <td>...</td>\n",
              "      <td>27.0</td>\n",
              "      <td>3</td>\n",
              "      <td>1</td>\n",
              "      <td>1</td>\n",
              "      <td>0.0</td>\n",
              "      <td>0</td>\n",
              "      <td>0</td>\n",
              "      <td>0</td>\n",
              "      <td>0</td>\n",
              "      <td>0</td>\n",
              "    </tr>\n",
              "    <tr>\n",
              "      <th>2</th>\n",
              "      <td>2</td>\n",
              "      <td>0</td>\n",
              "      <td>20.0</td>\n",
              "      <td>5</td>\n",
              "      <td>-0.280451</td>\n",
              "      <td>0</td>\n",
              "      <td>1.0</td>\n",
              "      <td>2</td>\n",
              "      <td>2</td>\n",
              "      <td>1.0</td>\n",
              "      <td>...</td>\n",
              "      <td>12.0</td>\n",
              "      <td>3</td>\n",
              "      <td>1</td>\n",
              "      <td>6</td>\n",
              "      <td>1.0</td>\n",
              "      <td>0</td>\n",
              "      <td>0</td>\n",
              "      <td>0</td>\n",
              "      <td>0</td>\n",
              "      <td>0</td>\n",
              "    </tr>\n",
              "    <tr>\n",
              "      <th>3</th>\n",
              "      <td>2</td>\n",
              "      <td>1</td>\n",
              "      <td>30.0</td>\n",
              "      <td>1</td>\n",
              "      <td>0.087540</td>\n",
              "      <td>0</td>\n",
              "      <td>0.0</td>\n",
              "      <td>2</td>\n",
              "      <td>2</td>\n",
              "      <td>3.0</td>\n",
              "      <td>...</td>\n",
              "      <td>14.0</td>\n",
              "      <td>3</td>\n",
              "      <td>1</td>\n",
              "      <td>3</td>\n",
              "      <td>0.0</td>\n",
              "      <td>0</td>\n",
              "      <td>0</td>\n",
              "      <td>0</td>\n",
              "      <td>0</td>\n",
              "      <td>0</td>\n",
              "    </tr>\n",
              "    <tr>\n",
              "      <th>4</th>\n",
              "      <td>2</td>\n",
              "      <td>1</td>\n",
              "      <td>40.0</td>\n",
              "      <td>0</td>\n",
              "      <td>-0.893768</td>\n",
              "      <td>0</td>\n",
              "      <td>0.0</td>\n",
              "      <td>2</td>\n",
              "      <td>2</td>\n",
              "      <td>2.0</td>\n",
              "      <td>...</td>\n",
              "      <td>5.0</td>\n",
              "      <td>3</td>\n",
              "      <td>0</td>\n",
              "      <td>1</td>\n",
              "      <td>1.0</td>\n",
              "      <td>0</td>\n",
              "      <td>0</td>\n",
              "      <td>0</td>\n",
              "      <td>0</td>\n",
              "      <td>0</td>\n",
              "    </tr>\n",
              "    <tr>\n",
              "      <th>...</th>\n",
              "      <td>...</td>\n",
              "      <td>...</td>\n",
              "      <td>...</td>\n",
              "      <td>...</td>\n",
              "      <td>...</td>\n",
              "      <td>...</td>\n",
              "      <td>...</td>\n",
              "      <td>...</td>\n",
              "      <td>...</td>\n",
              "      <td>...</td>\n",
              "      <td>...</td>\n",
              "      <td>...</td>\n",
              "      <td>...</td>\n",
              "      <td>...</td>\n",
              "      <td>...</td>\n",
              "      <td>...</td>\n",
              "      <td>...</td>\n",
              "      <td>...</td>\n",
              "      <td>...</td>\n",
              "      <td>...</td>\n",
              "      <td>...</td>\n",
              "    </tr>\n",
              "    <tr>\n",
              "      <th>12752</th>\n",
              "      <td>2</td>\n",
              "      <td>1</td>\n",
              "      <td>20.0</td>\n",
              "      <td>0</td>\n",
              "      <td>-1.629749</td>\n",
              "      <td>0</td>\n",
              "      <td>2.5</td>\n",
              "      <td>2</td>\n",
              "      <td>2</td>\n",
              "      <td>2.0</td>\n",
              "      <td>...</td>\n",
              "      <td>4.0</td>\n",
              "      <td>3</td>\n",
              "      <td>1</td>\n",
              "      <td>3</td>\n",
              "      <td>0.0</td>\n",
              "      <td>0</td>\n",
              "      <td>0</td>\n",
              "      <td>0</td>\n",
              "      <td>0</td>\n",
              "      <td>0</td>\n",
              "    </tr>\n",
              "    <tr>\n",
              "      <th>12753</th>\n",
              "      <td>2</td>\n",
              "      <td>0</td>\n",
              "      <td>70.0</td>\n",
              "      <td>1</td>\n",
              "      <td>-0.893768</td>\n",
              "      <td>0</td>\n",
              "      <td>0.0</td>\n",
              "      <td>2</td>\n",
              "      <td>2</td>\n",
              "      <td>2.0</td>\n",
              "      <td>...</td>\n",
              "      <td>27.0</td>\n",
              "      <td>3</td>\n",
              "      <td>3</td>\n",
              "      <td>3</td>\n",
              "      <td>0.0</td>\n",
              "      <td>0</td>\n",
              "      <td>0</td>\n",
              "      <td>0</td>\n",
              "      <td>0</td>\n",
              "      <td>0</td>\n",
              "    </tr>\n",
              "    <tr>\n",
              "      <th>12754</th>\n",
              "      <td>2</td>\n",
              "      <td>0</td>\n",
              "      <td>70.0</td>\n",
              "      <td>3</td>\n",
              "      <td>0.455530</td>\n",
              "      <td>0</td>\n",
              "      <td>0.0</td>\n",
              "      <td>2</td>\n",
              "      <td>2</td>\n",
              "      <td>1.0</td>\n",
              "      <td>...</td>\n",
              "      <td>50.0</td>\n",
              "      <td>3</td>\n",
              "      <td>3</td>\n",
              "      <td>1</td>\n",
              "      <td>0.0</td>\n",
              "      <td>0</td>\n",
              "      <td>0</td>\n",
              "      <td>0</td>\n",
              "      <td>0</td>\n",
              "      <td>0</td>\n",
              "    </tr>\n",
              "    <tr>\n",
              "      <th>12755</th>\n",
              "      <td>2</td>\n",
              "      <td>0</td>\n",
              "      <td>70.0</td>\n",
              "      <td>5</td>\n",
              "      <td>1.314174</td>\n",
              "      <td>0</td>\n",
              "      <td>0.0</td>\n",
              "      <td>2</td>\n",
              "      <td>2</td>\n",
              "      <td>1.0</td>\n",
              "      <td>...</td>\n",
              "      <td>36.0</td>\n",
              "      <td>3</td>\n",
              "      <td>4</td>\n",
              "      <td>4</td>\n",
              "      <td>1.0</td>\n",
              "      <td>0</td>\n",
              "      <td>0</td>\n",
              "      <td>0</td>\n",
              "      <td>0</td>\n",
              "      <td>0</td>\n",
              "    </tr>\n",
              "    <tr>\n",
              "      <th>12756</th>\n",
              "      <td>2</td>\n",
              "      <td>1</td>\n",
              "      <td>70.0</td>\n",
              "      <td>1</td>\n",
              "      <td>0.210203</td>\n",
              "      <td>0</td>\n",
              "      <td>0.0</td>\n",
              "      <td>2</td>\n",
              "      <td>2</td>\n",
              "      <td>3.5</td>\n",
              "      <td>...</td>\n",
              "      <td>NaN</td>\n",
              "      <td>3</td>\n",
              "      <td>6</td>\n",
              "      <td>1</td>\n",
              "      <td>2.5</td>\n",
              "      <td>0</td>\n",
              "      <td>0</td>\n",
              "      <td>0</td>\n",
              "      <td>0</td>\n",
              "      <td>0</td>\n",
              "    </tr>\n",
              "  </tbody>\n",
              "</table>\n",
              "<p>12757 rows × 23 columns</p>\n",
              "</div>\n",
              "    <div class=\"colab-df-buttons\">\n",
              "\n",
              "  <div class=\"colab-df-container\">\n",
              "    <button class=\"colab-df-convert\" onclick=\"convertToInteractive('df-3400d950-9f22-4488-b500-98480c0ab1e5')\"\n",
              "            title=\"Convert this dataframe to an interactive table.\"\n",
              "            style=\"display:none;\">\n",
              "\n",
              "  <svg xmlns=\"http://www.w3.org/2000/svg\" height=\"24px\" viewBox=\"0 -960 960 960\">\n",
              "    <path d=\"M120-120v-720h720v720H120Zm60-500h600v-160H180v160Zm220 220h160v-160H400v160Zm0 220h160v-160H400v160ZM180-400h160v-160H180v160Zm440 0h160v-160H620v160ZM180-180h160v-160H180v160Zm440 0h160v-160H620v160Z\"/>\n",
              "  </svg>\n",
              "    </button>\n",
              "\n",
              "  <style>\n",
              "    .colab-df-container {\n",
              "      display:flex;\n",
              "      gap: 12px;\n",
              "    }\n",
              "\n",
              "    .colab-df-convert {\n",
              "      background-color: #E8F0FE;\n",
              "      border: none;\n",
              "      border-radius: 50%;\n",
              "      cursor: pointer;\n",
              "      display: none;\n",
              "      fill: #1967D2;\n",
              "      height: 32px;\n",
              "      padding: 0 0 0 0;\n",
              "      width: 32px;\n",
              "    }\n",
              "\n",
              "    .colab-df-convert:hover {\n",
              "      background-color: #E2EBFA;\n",
              "      box-shadow: 0px 1px 2px rgba(60, 64, 67, 0.3), 0px 1px 3px 1px rgba(60, 64, 67, 0.15);\n",
              "      fill: #174EA6;\n",
              "    }\n",
              "\n",
              "    .colab-df-buttons div {\n",
              "      margin-bottom: 4px;\n",
              "    }\n",
              "\n",
              "    [theme=dark] .colab-df-convert {\n",
              "      background-color: #3B4455;\n",
              "      fill: #D2E3FC;\n",
              "    }\n",
              "\n",
              "    [theme=dark] .colab-df-convert:hover {\n",
              "      background-color: #434B5C;\n",
              "      box-shadow: 0px 1px 3px 1px rgba(0, 0, 0, 0.15);\n",
              "      filter: drop-shadow(0px 1px 2px rgba(0, 0, 0, 0.3));\n",
              "      fill: #FFFFFF;\n",
              "    }\n",
              "  </style>\n",
              "\n",
              "    <script>\n",
              "      const buttonEl =\n",
              "        document.querySelector('#df-3400d950-9f22-4488-b500-98480c0ab1e5 button.colab-df-convert');\n",
              "      buttonEl.style.display =\n",
              "        google.colab.kernel.accessAllowed ? 'block' : 'none';\n",
              "\n",
              "      async function convertToInteractive(key) {\n",
              "        const element = document.querySelector('#df-3400d950-9f22-4488-b500-98480c0ab1e5');\n",
              "        const dataTable =\n",
              "          await google.colab.kernel.invokeFunction('convertToInteractive',\n",
              "                                                    [key], {});\n",
              "        if (!dataTable) return;\n",
              "\n",
              "        const docLinkHtml = 'Like what you see? Visit the ' +\n",
              "          '<a target=\"_blank\" href=https://colab.research.google.com/notebooks/data_table.ipynb>data table notebook</a>'\n",
              "          + ' to learn more about interactive tables.';\n",
              "        element.innerHTML = '';\n",
              "        dataTable['output_type'] = 'display_data';\n",
              "        await google.colab.output.renderOutput(dataTable, element);\n",
              "        const docLink = document.createElement('div');\n",
              "        docLink.innerHTML = docLinkHtml;\n",
              "        element.appendChild(docLink);\n",
              "      }\n",
              "    </script>\n",
              "  </div>\n",
              "\n",
              "\n",
              "<div id=\"df-7a2e30b0-cf2e-4d6a-8891-db8310b168cf\">\n",
              "  <button class=\"colab-df-quickchart\" onclick=\"quickchart('df-7a2e30b0-cf2e-4d6a-8891-db8310b168cf')\"\n",
              "            title=\"Suggest charts\"\n",
              "            style=\"display:none;\">\n",
              "\n",
              "<svg xmlns=\"http://www.w3.org/2000/svg\" height=\"24px\"viewBox=\"0 0 24 24\"\n",
              "     width=\"24px\">\n",
              "    <g>\n",
              "        <path d=\"M19 3H5c-1.1 0-2 .9-2 2v14c0 1.1.9 2 2 2h14c1.1 0 2-.9 2-2V5c0-1.1-.9-2-2-2zM9 17H7v-7h2v7zm4 0h-2V7h2v10zm4 0h-2v-4h2v4z\"/>\n",
              "    </g>\n",
              "</svg>\n",
              "  </button>\n",
              "\n",
              "<style>\n",
              "  .colab-df-quickchart {\n",
              "      --bg-color: #E8F0FE;\n",
              "      --fill-color: #1967D2;\n",
              "      --hover-bg-color: #E2EBFA;\n",
              "      --hover-fill-color: #174EA6;\n",
              "      --disabled-fill-color: #AAA;\n",
              "      --disabled-bg-color: #DDD;\n",
              "  }\n",
              "\n",
              "  [theme=dark] .colab-df-quickchart {\n",
              "      --bg-color: #3B4455;\n",
              "      --fill-color: #D2E3FC;\n",
              "      --hover-bg-color: #434B5C;\n",
              "      --hover-fill-color: #FFFFFF;\n",
              "      --disabled-bg-color: #3B4455;\n",
              "      --disabled-fill-color: #666;\n",
              "  }\n",
              "\n",
              "  .colab-df-quickchart {\n",
              "    background-color: var(--bg-color);\n",
              "    border: none;\n",
              "    border-radius: 50%;\n",
              "    cursor: pointer;\n",
              "    display: none;\n",
              "    fill: var(--fill-color);\n",
              "    height: 32px;\n",
              "    padding: 0;\n",
              "    width: 32px;\n",
              "  }\n",
              "\n",
              "  .colab-df-quickchart:hover {\n",
              "    background-color: var(--hover-bg-color);\n",
              "    box-shadow: 0 1px 2px rgba(60, 64, 67, 0.3), 0 1px 3px 1px rgba(60, 64, 67, 0.15);\n",
              "    fill: var(--button-hover-fill-color);\n",
              "  }\n",
              "\n",
              "  .colab-df-quickchart-complete:disabled,\n",
              "  .colab-df-quickchart-complete:disabled:hover {\n",
              "    background-color: var(--disabled-bg-color);\n",
              "    fill: var(--disabled-fill-color);\n",
              "    box-shadow: none;\n",
              "  }\n",
              "\n",
              "  .colab-df-spinner {\n",
              "    border: 2px solid var(--fill-color);\n",
              "    border-color: transparent;\n",
              "    border-bottom-color: var(--fill-color);\n",
              "    animation:\n",
              "      spin 1s steps(1) infinite;\n",
              "  }\n",
              "\n",
              "  @keyframes spin {\n",
              "    0% {\n",
              "      border-color: transparent;\n",
              "      border-bottom-color: var(--fill-color);\n",
              "      border-left-color: var(--fill-color);\n",
              "    }\n",
              "    20% {\n",
              "      border-color: transparent;\n",
              "      border-left-color: var(--fill-color);\n",
              "      border-top-color: var(--fill-color);\n",
              "    }\n",
              "    30% {\n",
              "      border-color: transparent;\n",
              "      border-left-color: var(--fill-color);\n",
              "      border-top-color: var(--fill-color);\n",
              "      border-right-color: var(--fill-color);\n",
              "    }\n",
              "    40% {\n",
              "      border-color: transparent;\n",
              "      border-right-color: var(--fill-color);\n",
              "      border-top-color: var(--fill-color);\n",
              "    }\n",
              "    60% {\n",
              "      border-color: transparent;\n",
              "      border-right-color: var(--fill-color);\n",
              "    }\n",
              "    80% {\n",
              "      border-color: transparent;\n",
              "      border-right-color: var(--fill-color);\n",
              "      border-bottom-color: var(--fill-color);\n",
              "    }\n",
              "    90% {\n",
              "      border-color: transparent;\n",
              "      border-bottom-color: var(--fill-color);\n",
              "    }\n",
              "  }\n",
              "</style>\n",
              "\n",
              "  <script>\n",
              "    async function quickchart(key) {\n",
              "      const quickchartButtonEl =\n",
              "        document.querySelector('#' + key + ' button');\n",
              "      quickchartButtonEl.disabled = true;  // To prevent multiple clicks.\n",
              "      quickchartButtonEl.classList.add('colab-df-spinner');\n",
              "      try {\n",
              "        const charts = await google.colab.kernel.invokeFunction(\n",
              "            'suggestCharts', [key], {});\n",
              "      } catch (error) {\n",
              "        console.error('Error during call to suggestCharts:', error);\n",
              "      }\n",
              "      quickchartButtonEl.classList.remove('colab-df-spinner');\n",
              "      quickchartButtonEl.classList.add('colab-df-quickchart-complete');\n",
              "    }\n",
              "    (() => {\n",
              "      let quickchartButtonEl =\n",
              "        document.querySelector('#df-7a2e30b0-cf2e-4d6a-8891-db8310b168cf button');\n",
              "      quickchartButtonEl.style.display =\n",
              "        google.colab.kernel.accessAllowed ? 'block' : 'none';\n",
              "    })();\n",
              "  </script>\n",
              "</div>\n",
              "\n",
              "  <div id=\"id_bab3f510-7021-4db4-a1cb-b30ef1a58707\">\n",
              "    <style>\n",
              "      .colab-df-generate {\n",
              "        background-color: #E8F0FE;\n",
              "        border: none;\n",
              "        border-radius: 50%;\n",
              "        cursor: pointer;\n",
              "        display: none;\n",
              "        fill: #1967D2;\n",
              "        height: 32px;\n",
              "        padding: 0 0 0 0;\n",
              "        width: 32px;\n",
              "      }\n",
              "\n",
              "      .colab-df-generate:hover {\n",
              "        background-color: #E2EBFA;\n",
              "        box-shadow: 0px 1px 2px rgba(60, 64, 67, 0.3), 0px 1px 3px 1px rgba(60, 64, 67, 0.15);\n",
              "        fill: #174EA6;\n",
              "      }\n",
              "\n",
              "      [theme=dark] .colab-df-generate {\n",
              "        background-color: #3B4455;\n",
              "        fill: #D2E3FC;\n",
              "      }\n",
              "\n",
              "      [theme=dark] .colab-df-generate:hover {\n",
              "        background-color: #434B5C;\n",
              "        box-shadow: 0px 1px 3px 1px rgba(0, 0, 0, 0.15);\n",
              "        filter: drop-shadow(0px 1px 2px rgba(0, 0, 0, 0.3));\n",
              "        fill: #FFFFFF;\n",
              "      }\n",
              "    </style>\n",
              "    <button class=\"colab-df-generate\" onclick=\"generateWithVariable('data')\"\n",
              "            title=\"Generate code using this dataframe.\"\n",
              "            style=\"display:none;\">\n",
              "\n",
              "  <svg xmlns=\"http://www.w3.org/2000/svg\" height=\"24px\"viewBox=\"0 0 24 24\"\n",
              "       width=\"24px\">\n",
              "    <path d=\"M7,19H8.4L18.45,9,17,7.55,7,17.6ZM5,21V16.75L18.45,3.32a2,2,0,0,1,2.83,0l1.4,1.43a1.91,1.91,0,0,1,.58,1.4,1.91,1.91,0,0,1-.58,1.4L9.25,21ZM18.45,9,17,7.55Zm-12,3A5.31,5.31,0,0,0,4.9,8.1,5.31,5.31,0,0,0,1,6.5,5.31,5.31,0,0,0,4.9,4.9,5.31,5.31,0,0,0,6.5,1,5.31,5.31,0,0,0,8.1,4.9,5.31,5.31,0,0,0,12,6.5,5.46,5.46,0,0,0,6.5,12Z\"/>\n",
              "  </svg>\n",
              "    </button>\n",
              "    <script>\n",
              "      (() => {\n",
              "      const buttonEl =\n",
              "        document.querySelector('#id_bab3f510-7021-4db4-a1cb-b30ef1a58707 button.colab-df-generate');\n",
              "      buttonEl.style.display =\n",
              "        google.colab.kernel.accessAllowed ? 'block' : 'none';\n",
              "\n",
              "      buttonEl.onclick = () => {\n",
              "        google.colab.notebook.generateWithVariable('data');\n",
              "      }\n",
              "      })();\n",
              "    </script>\n",
              "  </div>\n",
              "\n",
              "    </div>\n",
              "  </div>\n"
            ],
            "application/vnd.google.colaboratory.intrinsic+json": {
              "type": "dataframe",
              "variable_name": "data"
            }
          },
          "metadata": {},
          "execution_count": 42
        }
      ]
    },
    {
      "cell_type": "code",
      "source": [
        "data.shape"
      ],
      "metadata": {
        "colab": {
          "base_uri": "https://localhost:8080/"
        },
        "id": "PU1mzj1Z3Avb",
        "outputId": "60c056da-0979-4d2f-ef90-d668ca4f80cd"
      },
      "execution_count": 43,
      "outputs": [
        {
          "output_type": "execute_result",
          "data": {
            "text/plain": [
              "(12757, 23)"
            ]
          },
          "metadata": {},
          "execution_count": 43
        }
      ]
    },
    {
      "cell_type": "code",
      "source": [
        "data.head()"
      ],
      "metadata": {
        "colab": {
          "base_uri": "https://localhost:8080/",
          "height": 255
        },
        "id": "fcdw52HB75_P",
        "outputId": "7f546e58-2666-4d41-9e08-2ab41bfceba3"
      },
      "execution_count": 44,
      "outputs": [
        {
          "output_type": "execute_result",
          "data": {
            "text/plain": [
              "   race  gender   age  num_procedures  num_medications  number_emergency  \\\n",
              "0     2       0  20.0               0        -1.752413                 0   \n",
              "1     2       0  20.0               0         0.332867                 0   \n",
              "2     2       0  20.0               5        -0.280451                 0   \n",
              "3     2       1  30.0               1         0.087540                 0   \n",
              "4     2       1  40.0               0        -0.893768                 0   \n",
              "\n",
              "   number_inpatient  max_glu_serum  A1Cresult  insulin  ...  \\\n",
              "0               0.0              2          2      1.0  ...   \n",
              "1               0.0              2          2      3.0  ...   \n",
              "2               1.0              2          2      1.0  ...   \n",
              "3               0.0              2          2      3.0  ...   \n",
              "4               0.0              2          2      2.0  ...   \n",
              "\n",
              "   time_diagnoses_interaction  diag_1_category  diag_2_category  \\\n",
              "0                         1.0                3                1   \n",
              "1                        27.0                3                1   \n",
              "2                        12.0                3                1   \n",
              "3                        14.0                3                1   \n",
              "4                         5.0                3                0   \n",
              "\n",
              "   diag_3_category  sulfonylureas  biguanides  thiazolidinediones  \\\n",
              "0                1            0.0           0                   0   \n",
              "1                1            0.0           0                   0   \n",
              "2                6            1.0           0                   0   \n",
              "3                3            0.0           0                   0   \n",
              "4                1            1.0           0                   0   \n",
              "\n",
              "   meglitinides  alpha_glucosidase_inhibitors  other_combination_therapies  \n",
              "0             0                             0                            0  \n",
              "1             0                             0                            0  \n",
              "2             0                             0                            0  \n",
              "3             0                             0                            0  \n",
              "4             0                             0                            0  \n",
              "\n",
              "[5 rows x 23 columns]"
            ],
            "text/html": [
              "\n",
              "  <div id=\"df-ae6fd23d-7749-419a-9745-fcce0aac99f3\" class=\"colab-df-container\">\n",
              "    <div>\n",
              "<style scoped>\n",
              "    .dataframe tbody tr th:only-of-type {\n",
              "        vertical-align: middle;\n",
              "    }\n",
              "\n",
              "    .dataframe tbody tr th {\n",
              "        vertical-align: top;\n",
              "    }\n",
              "\n",
              "    .dataframe thead th {\n",
              "        text-align: right;\n",
              "    }\n",
              "</style>\n",
              "<table border=\"1\" class=\"dataframe\">\n",
              "  <thead>\n",
              "    <tr style=\"text-align: right;\">\n",
              "      <th></th>\n",
              "      <th>race</th>\n",
              "      <th>gender</th>\n",
              "      <th>age</th>\n",
              "      <th>num_procedures</th>\n",
              "      <th>num_medications</th>\n",
              "      <th>number_emergency</th>\n",
              "      <th>number_inpatient</th>\n",
              "      <th>max_glu_serum</th>\n",
              "      <th>A1Cresult</th>\n",
              "      <th>insulin</th>\n",
              "      <th>...</th>\n",
              "      <th>time_diagnoses_interaction</th>\n",
              "      <th>diag_1_category</th>\n",
              "      <th>diag_2_category</th>\n",
              "      <th>diag_3_category</th>\n",
              "      <th>sulfonylureas</th>\n",
              "      <th>biguanides</th>\n",
              "      <th>thiazolidinediones</th>\n",
              "      <th>meglitinides</th>\n",
              "      <th>alpha_glucosidase_inhibitors</th>\n",
              "      <th>other_combination_therapies</th>\n",
              "    </tr>\n",
              "  </thead>\n",
              "  <tbody>\n",
              "    <tr>\n",
              "      <th>0</th>\n",
              "      <td>2</td>\n",
              "      <td>0</td>\n",
              "      <td>20.0</td>\n",
              "      <td>0</td>\n",
              "      <td>-1.752413</td>\n",
              "      <td>0</td>\n",
              "      <td>0.0</td>\n",
              "      <td>2</td>\n",
              "      <td>2</td>\n",
              "      <td>1.0</td>\n",
              "      <td>...</td>\n",
              "      <td>1.0</td>\n",
              "      <td>3</td>\n",
              "      <td>1</td>\n",
              "      <td>1</td>\n",
              "      <td>0.0</td>\n",
              "      <td>0</td>\n",
              "      <td>0</td>\n",
              "      <td>0</td>\n",
              "      <td>0</td>\n",
              "      <td>0</td>\n",
              "    </tr>\n",
              "    <tr>\n",
              "      <th>1</th>\n",
              "      <td>2</td>\n",
              "      <td>0</td>\n",
              "      <td>20.0</td>\n",
              "      <td>0</td>\n",
              "      <td>0.332867</td>\n",
              "      <td>0</td>\n",
              "      <td>0.0</td>\n",
              "      <td>2</td>\n",
              "      <td>2</td>\n",
              "      <td>3.0</td>\n",
              "      <td>...</td>\n",
              "      <td>27.0</td>\n",
              "      <td>3</td>\n",
              "      <td>1</td>\n",
              "      <td>1</td>\n",
              "      <td>0.0</td>\n",
              "      <td>0</td>\n",
              "      <td>0</td>\n",
              "      <td>0</td>\n",
              "      <td>0</td>\n",
              "      <td>0</td>\n",
              "    </tr>\n",
              "    <tr>\n",
              "      <th>2</th>\n",
              "      <td>2</td>\n",
              "      <td>0</td>\n",
              "      <td>20.0</td>\n",
              "      <td>5</td>\n",
              "      <td>-0.280451</td>\n",
              "      <td>0</td>\n",
              "      <td>1.0</td>\n",
              "      <td>2</td>\n",
              "      <td>2</td>\n",
              "      <td>1.0</td>\n",
              "      <td>...</td>\n",
              "      <td>12.0</td>\n",
              "      <td>3</td>\n",
              "      <td>1</td>\n",
              "      <td>6</td>\n",
              "      <td>1.0</td>\n",
              "      <td>0</td>\n",
              "      <td>0</td>\n",
              "      <td>0</td>\n",
              "      <td>0</td>\n",
              "      <td>0</td>\n",
              "    </tr>\n",
              "    <tr>\n",
              "      <th>3</th>\n",
              "      <td>2</td>\n",
              "      <td>1</td>\n",
              "      <td>30.0</td>\n",
              "      <td>1</td>\n",
              "      <td>0.087540</td>\n",
              "      <td>0</td>\n",
              "      <td>0.0</td>\n",
              "      <td>2</td>\n",
              "      <td>2</td>\n",
              "      <td>3.0</td>\n",
              "      <td>...</td>\n",
              "      <td>14.0</td>\n",
              "      <td>3</td>\n",
              "      <td>1</td>\n",
              "      <td>3</td>\n",
              "      <td>0.0</td>\n",
              "      <td>0</td>\n",
              "      <td>0</td>\n",
              "      <td>0</td>\n",
              "      <td>0</td>\n",
              "      <td>0</td>\n",
              "    </tr>\n",
              "    <tr>\n",
              "      <th>4</th>\n",
              "      <td>2</td>\n",
              "      <td>1</td>\n",
              "      <td>40.0</td>\n",
              "      <td>0</td>\n",
              "      <td>-0.893768</td>\n",
              "      <td>0</td>\n",
              "      <td>0.0</td>\n",
              "      <td>2</td>\n",
              "      <td>2</td>\n",
              "      <td>2.0</td>\n",
              "      <td>...</td>\n",
              "      <td>5.0</td>\n",
              "      <td>3</td>\n",
              "      <td>0</td>\n",
              "      <td>1</td>\n",
              "      <td>1.0</td>\n",
              "      <td>0</td>\n",
              "      <td>0</td>\n",
              "      <td>0</td>\n",
              "      <td>0</td>\n",
              "      <td>0</td>\n",
              "    </tr>\n",
              "  </tbody>\n",
              "</table>\n",
              "<p>5 rows × 23 columns</p>\n",
              "</div>\n",
              "    <div class=\"colab-df-buttons\">\n",
              "\n",
              "  <div class=\"colab-df-container\">\n",
              "    <button class=\"colab-df-convert\" onclick=\"convertToInteractive('df-ae6fd23d-7749-419a-9745-fcce0aac99f3')\"\n",
              "            title=\"Convert this dataframe to an interactive table.\"\n",
              "            style=\"display:none;\">\n",
              "\n",
              "  <svg xmlns=\"http://www.w3.org/2000/svg\" height=\"24px\" viewBox=\"0 -960 960 960\">\n",
              "    <path d=\"M120-120v-720h720v720H120Zm60-500h600v-160H180v160Zm220 220h160v-160H400v160Zm0 220h160v-160H400v160ZM180-400h160v-160H180v160Zm440 0h160v-160H620v160ZM180-180h160v-160H180v160Zm440 0h160v-160H620v160Z\"/>\n",
              "  </svg>\n",
              "    </button>\n",
              "\n",
              "  <style>\n",
              "    .colab-df-container {\n",
              "      display:flex;\n",
              "      gap: 12px;\n",
              "    }\n",
              "\n",
              "    .colab-df-convert {\n",
              "      background-color: #E8F0FE;\n",
              "      border: none;\n",
              "      border-radius: 50%;\n",
              "      cursor: pointer;\n",
              "      display: none;\n",
              "      fill: #1967D2;\n",
              "      height: 32px;\n",
              "      padding: 0 0 0 0;\n",
              "      width: 32px;\n",
              "    }\n",
              "\n",
              "    .colab-df-convert:hover {\n",
              "      background-color: #E2EBFA;\n",
              "      box-shadow: 0px 1px 2px rgba(60, 64, 67, 0.3), 0px 1px 3px 1px rgba(60, 64, 67, 0.15);\n",
              "      fill: #174EA6;\n",
              "    }\n",
              "\n",
              "    .colab-df-buttons div {\n",
              "      margin-bottom: 4px;\n",
              "    }\n",
              "\n",
              "    [theme=dark] .colab-df-convert {\n",
              "      background-color: #3B4455;\n",
              "      fill: #D2E3FC;\n",
              "    }\n",
              "\n",
              "    [theme=dark] .colab-df-convert:hover {\n",
              "      background-color: #434B5C;\n",
              "      box-shadow: 0px 1px 3px 1px rgba(0, 0, 0, 0.15);\n",
              "      filter: drop-shadow(0px 1px 2px rgba(0, 0, 0, 0.3));\n",
              "      fill: #FFFFFF;\n",
              "    }\n",
              "  </style>\n",
              "\n",
              "    <script>\n",
              "      const buttonEl =\n",
              "        document.querySelector('#df-ae6fd23d-7749-419a-9745-fcce0aac99f3 button.colab-df-convert');\n",
              "      buttonEl.style.display =\n",
              "        google.colab.kernel.accessAllowed ? 'block' : 'none';\n",
              "\n",
              "      async function convertToInteractive(key) {\n",
              "        const element = document.querySelector('#df-ae6fd23d-7749-419a-9745-fcce0aac99f3');\n",
              "        const dataTable =\n",
              "          await google.colab.kernel.invokeFunction('convertToInteractive',\n",
              "                                                    [key], {});\n",
              "        if (!dataTable) return;\n",
              "\n",
              "        const docLinkHtml = 'Like what you see? Visit the ' +\n",
              "          '<a target=\"_blank\" href=https://colab.research.google.com/notebooks/data_table.ipynb>data table notebook</a>'\n",
              "          + ' to learn more about interactive tables.';\n",
              "        element.innerHTML = '';\n",
              "        dataTable['output_type'] = 'display_data';\n",
              "        await google.colab.output.renderOutput(dataTable, element);\n",
              "        const docLink = document.createElement('div');\n",
              "        docLink.innerHTML = docLinkHtml;\n",
              "        element.appendChild(docLink);\n",
              "      }\n",
              "    </script>\n",
              "  </div>\n",
              "\n",
              "\n",
              "<div id=\"df-2f764b8c-825a-4c2f-a25a-c408ee0c70c3\">\n",
              "  <button class=\"colab-df-quickchart\" onclick=\"quickchart('df-2f764b8c-825a-4c2f-a25a-c408ee0c70c3')\"\n",
              "            title=\"Suggest charts\"\n",
              "            style=\"display:none;\">\n",
              "\n",
              "<svg xmlns=\"http://www.w3.org/2000/svg\" height=\"24px\"viewBox=\"0 0 24 24\"\n",
              "     width=\"24px\">\n",
              "    <g>\n",
              "        <path d=\"M19 3H5c-1.1 0-2 .9-2 2v14c0 1.1.9 2 2 2h14c1.1 0 2-.9 2-2V5c0-1.1-.9-2-2-2zM9 17H7v-7h2v7zm4 0h-2V7h2v10zm4 0h-2v-4h2v4z\"/>\n",
              "    </g>\n",
              "</svg>\n",
              "  </button>\n",
              "\n",
              "<style>\n",
              "  .colab-df-quickchart {\n",
              "      --bg-color: #E8F0FE;\n",
              "      --fill-color: #1967D2;\n",
              "      --hover-bg-color: #E2EBFA;\n",
              "      --hover-fill-color: #174EA6;\n",
              "      --disabled-fill-color: #AAA;\n",
              "      --disabled-bg-color: #DDD;\n",
              "  }\n",
              "\n",
              "  [theme=dark] .colab-df-quickchart {\n",
              "      --bg-color: #3B4455;\n",
              "      --fill-color: #D2E3FC;\n",
              "      --hover-bg-color: #434B5C;\n",
              "      --hover-fill-color: #FFFFFF;\n",
              "      --disabled-bg-color: #3B4455;\n",
              "      --disabled-fill-color: #666;\n",
              "  }\n",
              "\n",
              "  .colab-df-quickchart {\n",
              "    background-color: var(--bg-color);\n",
              "    border: none;\n",
              "    border-radius: 50%;\n",
              "    cursor: pointer;\n",
              "    display: none;\n",
              "    fill: var(--fill-color);\n",
              "    height: 32px;\n",
              "    padding: 0;\n",
              "    width: 32px;\n",
              "  }\n",
              "\n",
              "  .colab-df-quickchart:hover {\n",
              "    background-color: var(--hover-bg-color);\n",
              "    box-shadow: 0 1px 2px rgba(60, 64, 67, 0.3), 0 1px 3px 1px rgba(60, 64, 67, 0.15);\n",
              "    fill: var(--button-hover-fill-color);\n",
              "  }\n",
              "\n",
              "  .colab-df-quickchart-complete:disabled,\n",
              "  .colab-df-quickchart-complete:disabled:hover {\n",
              "    background-color: var(--disabled-bg-color);\n",
              "    fill: var(--disabled-fill-color);\n",
              "    box-shadow: none;\n",
              "  }\n",
              "\n",
              "  .colab-df-spinner {\n",
              "    border: 2px solid var(--fill-color);\n",
              "    border-color: transparent;\n",
              "    border-bottom-color: var(--fill-color);\n",
              "    animation:\n",
              "      spin 1s steps(1) infinite;\n",
              "  }\n",
              "\n",
              "  @keyframes spin {\n",
              "    0% {\n",
              "      border-color: transparent;\n",
              "      border-bottom-color: var(--fill-color);\n",
              "      border-left-color: var(--fill-color);\n",
              "    }\n",
              "    20% {\n",
              "      border-color: transparent;\n",
              "      border-left-color: var(--fill-color);\n",
              "      border-top-color: var(--fill-color);\n",
              "    }\n",
              "    30% {\n",
              "      border-color: transparent;\n",
              "      border-left-color: var(--fill-color);\n",
              "      border-top-color: var(--fill-color);\n",
              "      border-right-color: var(--fill-color);\n",
              "    }\n",
              "    40% {\n",
              "      border-color: transparent;\n",
              "      border-right-color: var(--fill-color);\n",
              "      border-top-color: var(--fill-color);\n",
              "    }\n",
              "    60% {\n",
              "      border-color: transparent;\n",
              "      border-right-color: var(--fill-color);\n",
              "    }\n",
              "    80% {\n",
              "      border-color: transparent;\n",
              "      border-right-color: var(--fill-color);\n",
              "      border-bottom-color: var(--fill-color);\n",
              "    }\n",
              "    90% {\n",
              "      border-color: transparent;\n",
              "      border-bottom-color: var(--fill-color);\n",
              "    }\n",
              "  }\n",
              "</style>\n",
              "\n",
              "  <script>\n",
              "    async function quickchart(key) {\n",
              "      const quickchartButtonEl =\n",
              "        document.querySelector('#' + key + ' button');\n",
              "      quickchartButtonEl.disabled = true;  // To prevent multiple clicks.\n",
              "      quickchartButtonEl.classList.add('colab-df-spinner');\n",
              "      try {\n",
              "        const charts = await google.colab.kernel.invokeFunction(\n",
              "            'suggestCharts', [key], {});\n",
              "      } catch (error) {\n",
              "        console.error('Error during call to suggestCharts:', error);\n",
              "      }\n",
              "      quickchartButtonEl.classList.remove('colab-df-spinner');\n",
              "      quickchartButtonEl.classList.add('colab-df-quickchart-complete');\n",
              "    }\n",
              "    (() => {\n",
              "      let quickchartButtonEl =\n",
              "        document.querySelector('#df-2f764b8c-825a-4c2f-a25a-c408ee0c70c3 button');\n",
              "      quickchartButtonEl.style.display =\n",
              "        google.colab.kernel.accessAllowed ? 'block' : 'none';\n",
              "    })();\n",
              "  </script>\n",
              "</div>\n",
              "\n",
              "    </div>\n",
              "  </div>\n"
            ],
            "application/vnd.google.colaboratory.intrinsic+json": {
              "type": "dataframe",
              "variable_name": "data"
            }
          },
          "metadata": {},
          "execution_count": 44
        }
      ]
    },
    {
      "cell_type": "code",
      "source": [
        "data['diabetesMed'].value_counts()\n",
        "# حذف الصفوف التي تحتوي على القيمة '2' في عمود 'diabetesMed'\n",
        "data = data[data['diabetesMed'] != 2]\n",
        "\n",
        "# التحقق من توزيع القيم في عمود 'diabetesMed'\n",
        "print(data['diabetesMed'].value_counts())\n"
      ],
      "metadata": {
        "colab": {
          "base_uri": "https://localhost:8080/"
        },
        "id": "oxW_gJ6Z7Kfu",
        "outputId": "268baac0-0d70-48c9-f00a-d8e53c9b596e"
      },
      "execution_count": 45,
      "outputs": [
        {
          "output_type": "stream",
          "name": "stdout",
          "text": [
            "diabetesMed\n",
            "1    9386\n",
            "0    3370\n",
            "Name: count, dtype: int64\n"
          ]
        }
      ]
    },
    {
      "cell_type": "code",
      "source": [
        "data.isnull().sum()"
      ],
      "metadata": {
        "colab": {
          "base_uri": "https://localhost:8080/",
          "height": 805
        },
        "id": "75er6UCs7RuW",
        "outputId": "002b6a72-a2de-4a0d-c099-f05b802d5bc5"
      },
      "execution_count": 46,
      "outputs": [
        {
          "output_type": "execute_result",
          "data": {
            "text/plain": [
              "race                            0\n",
              "gender                          0\n",
              "age                             0\n",
              "num_procedures                  0\n",
              "num_medications                 0\n",
              "number_emergency                0\n",
              "number_inpatient                0\n",
              "max_glu_serum                   0\n",
              "A1Cresult                       0\n",
              "insulin                         0\n",
              "change                          0\n",
              "diabetesMed                     0\n",
              "encoded_readmitted              0\n",
              "time_diagnoses_interaction      0\n",
              "diag_1_category                 0\n",
              "diag_2_category                 0\n",
              "diag_3_category                 0\n",
              "sulfonylureas                   0\n",
              "biguanides                      0\n",
              "thiazolidinediones              0\n",
              "meglitinides                    0\n",
              "alpha_glucosidase_inhibitors    0\n",
              "other_combination_therapies     0\n",
              "dtype: int64"
            ],
            "text/html": [
              "<div>\n",
              "<style scoped>\n",
              "    .dataframe tbody tr th:only-of-type {\n",
              "        vertical-align: middle;\n",
              "    }\n",
              "\n",
              "    .dataframe tbody tr th {\n",
              "        vertical-align: top;\n",
              "    }\n",
              "\n",
              "    .dataframe thead th {\n",
              "        text-align: right;\n",
              "    }\n",
              "</style>\n",
              "<table border=\"1\" class=\"dataframe\">\n",
              "  <thead>\n",
              "    <tr style=\"text-align: right;\">\n",
              "      <th></th>\n",
              "      <th>0</th>\n",
              "    </tr>\n",
              "  </thead>\n",
              "  <tbody>\n",
              "    <tr>\n",
              "      <th>race</th>\n",
              "      <td>0</td>\n",
              "    </tr>\n",
              "    <tr>\n",
              "      <th>gender</th>\n",
              "      <td>0</td>\n",
              "    </tr>\n",
              "    <tr>\n",
              "      <th>age</th>\n",
              "      <td>0</td>\n",
              "    </tr>\n",
              "    <tr>\n",
              "      <th>num_procedures</th>\n",
              "      <td>0</td>\n",
              "    </tr>\n",
              "    <tr>\n",
              "      <th>num_medications</th>\n",
              "      <td>0</td>\n",
              "    </tr>\n",
              "    <tr>\n",
              "      <th>number_emergency</th>\n",
              "      <td>0</td>\n",
              "    </tr>\n",
              "    <tr>\n",
              "      <th>number_inpatient</th>\n",
              "      <td>0</td>\n",
              "    </tr>\n",
              "    <tr>\n",
              "      <th>max_glu_serum</th>\n",
              "      <td>0</td>\n",
              "    </tr>\n",
              "    <tr>\n",
              "      <th>A1Cresult</th>\n",
              "      <td>0</td>\n",
              "    </tr>\n",
              "    <tr>\n",
              "      <th>insulin</th>\n",
              "      <td>0</td>\n",
              "    </tr>\n",
              "    <tr>\n",
              "      <th>change</th>\n",
              "      <td>0</td>\n",
              "    </tr>\n",
              "    <tr>\n",
              "      <th>diabetesMed</th>\n",
              "      <td>0</td>\n",
              "    </tr>\n",
              "    <tr>\n",
              "      <th>encoded_readmitted</th>\n",
              "      <td>0</td>\n",
              "    </tr>\n",
              "    <tr>\n",
              "      <th>time_diagnoses_interaction</th>\n",
              "      <td>0</td>\n",
              "    </tr>\n",
              "    <tr>\n",
              "      <th>diag_1_category</th>\n",
              "      <td>0</td>\n",
              "    </tr>\n",
              "    <tr>\n",
              "      <th>diag_2_category</th>\n",
              "      <td>0</td>\n",
              "    </tr>\n",
              "    <tr>\n",
              "      <th>diag_3_category</th>\n",
              "      <td>0</td>\n",
              "    </tr>\n",
              "    <tr>\n",
              "      <th>sulfonylureas</th>\n",
              "      <td>0</td>\n",
              "    </tr>\n",
              "    <tr>\n",
              "      <th>biguanides</th>\n",
              "      <td>0</td>\n",
              "    </tr>\n",
              "    <tr>\n",
              "      <th>thiazolidinediones</th>\n",
              "      <td>0</td>\n",
              "    </tr>\n",
              "    <tr>\n",
              "      <th>meglitinides</th>\n",
              "      <td>0</td>\n",
              "    </tr>\n",
              "    <tr>\n",
              "      <th>alpha_glucosidase_inhibitors</th>\n",
              "      <td>0</td>\n",
              "    </tr>\n",
              "    <tr>\n",
              "      <th>other_combination_therapies</th>\n",
              "      <td>0</td>\n",
              "    </tr>\n",
              "  </tbody>\n",
              "</table>\n",
              "</div><br><label><b>dtype:</b> int64</label>"
            ]
          },
          "metadata": {},
          "execution_count": 46
        }
      ]
    },
    {
      "cell_type": "markdown",
      "source": [
        "**train_test_spilt**\n"
      ],
      "metadata": {
        "id": "Hgo6jDhl8zXS"
      }
    },
    {
      "cell_type": "code",
      "source": [
        "# تقسيم البيانات إلى مدخلات (X) وهدف (y)\n",
        "X = data.drop(columns=['diabetesMed'])  # استبعاد العمود المستهدف\n",
        "y = data['diabetesMed']  # الهدف\n",
        "\n",
        "# تقسيم البيانات إلى بيانات تدريب واختبار\n",
        "X_train, X_test, y_train, y_test = train_test_split(X, y, test_size=0.2, random_state=42)\n",
        "\n",
        "\n",
        "print(\"Shape of X_train:\", X_train.shape)\n",
        "print(\"Shape of X_test:\", X_test.shape)\n",
        "print(\"Shape of y_train:\", y_train.shape)\n",
        "print(\"Shape of y_test:\", y_test.shape)\n"
      ],
      "metadata": {
        "colab": {
          "base_uri": "https://localhost:8080/"
        },
        "id": "hhhCoIw17U3I",
        "outputId": "5f2b0f80-4e30-4357-9769-fe8fb71a49a2"
      },
      "execution_count": 9,
      "outputs": [
        {
          "output_type": "stream",
          "name": "stdout",
          "text": [
            "Shape of X_train: (10204, 22)\n",
            "Shape of X_test: (2552, 22)\n",
            "Shape of y_train: (10204,)\n",
            "Shape of y_test: (2552,)\n"
          ]
        }
      ]
    },
    {
      "cell_type": "markdown",
      "source": [
        "**Models**"
      ],
      "metadata": {
        "id": "PUxVUuYsEe2v"
      }
    },
    {
      "cell_type": "markdown",
      "source": [
        "**1. logistic_regression**\n"
      ],
      "metadata": {
        "id": "kjAn7Ui-8kbG"
      }
    },
    {
      "cell_type": "code",
      "source": [
        "# تدريب نموذج Logistic Regression\n",
        "logistic_regression_model = LogisticRegression(max_iter=1000)\n",
        "logistic_regression_model.fit(X_train, y_train)\n",
        "\n",
        "# توقعات النموذج\n",
        "y_pred1 = logistic_regression_model.predict(X_test)\n",
        "\n",
        "# حساب الدقة والتقرير\n",
        "accuracy_logistic = accuracy_score(y_test, y_pred1)\n",
        "report_logistic = classification_report(y_test, y_pred1, zero_division=1)\n",
        "\n",
        "# طباعة النتائج\n",
        "print(f\"Logistic Regression Accuracy: {accuracy_logistic:.4f}\")\n",
        "print(f\"Logistic Regression Classification Report:\\n{report_logistic}\")\n",
        "\n",
        "# رسم مصفوفة الالتباس لنموذج Logistic Regression\n",
        "cm_logistic = confusion_matrix(y_test, y_pred1)\n",
        "disp_logistic = ConfusionMatrixDisplay(confusion_matrix=cm_logistic)\n",
        "disp_logistic.plot()\n",
        "plt.title(\"Confusion Matrix for Logistic Regression\")\n",
        "plt.show()\n"
      ],
      "metadata": {
        "colab": {
          "base_uri": "https://localhost:8080/",
          "height": 663
        },
        "id": "FtyftFL_8jLW",
        "outputId": "1782ecc2-767c-4e69-814c-98b53e63811e"
      },
      "execution_count": 47,
      "outputs": [
        {
          "output_type": "stream",
          "name": "stdout",
          "text": [
            "Logistic Regression Accuracy: 0.9412\n",
            "Logistic Regression Classification Report:\n",
            "              precision    recall  f1-score   support\n",
            "\n",
            "           0       0.81      1.00      0.90       649\n",
            "           1       1.00      0.92      0.96      1903\n",
            "\n",
            "    accuracy                           0.94      2552\n",
            "   macro avg       0.91      0.96      0.93      2552\n",
            "weighted avg       0.95      0.94      0.94      2552\n",
            "\n"
          ]
        },
        {
          "output_type": "display_data",
          "data": {
            "text/plain": [
              "<Figure size 640x480 with 2 Axes>"
            ],
            "image/png": "[encoded data removed]"
          },
          "metadata": {}
        }
      ]
    },
    {
      "cell_type": "markdown",
      "source": [
        "**2. SVM**"
      ],
      "metadata": {
        "id": "L5mXd-p1_IYR"
      }
    },
    {
      "cell_type": "code",
      "source": [
        "\n",
        "# 1- Scaling البيانات\n",
        "scaler = StandardScaler()\n",
        "X_train_scaled = scaler.fit_transform(X_train)\n",
        "X_test_scaled = scaler.transform(X_test)\n",
        "\n",
        "# 2- بناء موديل SVM\n",
        "svm = SVC()\n",
        "svm.fit(X_train_scaled, y_train)\n",
        "\n",
        "# 3- التوقع\n",
        "y_pred2 = svm.predict(X_test_scaled)\n",
        "\n",
        "# حساب الدقة والتقرير\n",
        "accuracy = accuracy_score(y_test, y_pred2)\n",
        "report = classification_report(y_test, y_pred2, zero_division=1)\n",
        "\n",
        "# طباعة الدقة والتقرير\n",
        "print(f\"SVM Accuracy: {accuracy:.4f}\")\n",
        "print(f\"SVM Classification Report:\\n{report}\")\n",
        "\n",
        "# رسم مصفوفة الالتباس\n",
        "cm = confusion_matrix(y_test, y_pred2)\n",
        "disp = ConfusionMatrixDisplay(confusion_matrix=cm)\n",
        "\n",
        "# فتح نافذة جديدة للرسم البياني\n",
        "plt.figure()\n",
        "disp.plot()\n",
        "plt.title(\"Confusion Matrix for SVM\")\n",
        "plt.show()\n",
        "\n"
      ],
      "metadata": {
        "colab": {
          "base_uri": "https://localhost:8080/",
          "height": 680
        },
        "id": "IfKHVcoX_K2t",
        "outputId": "592afa89-e2eb-4424-db1e-a1053c27eecd"
      },
      "execution_count": 48,
      "outputs": [
        {
          "output_type": "stream",
          "name": "stdout",
          "text": [
            "SVM Accuracy: 0.9408\n",
            "SVM Classification Report:\n",
            "              precision    recall  f1-score   support\n",
            "\n",
            "           0       0.81      1.00      0.90       649\n",
            "           1       1.00      0.92      0.96      1903\n",
            "\n",
            "    accuracy                           0.94      2552\n",
            "   macro avg       0.91      0.96      0.93      2552\n",
            "weighted avg       0.95      0.94      0.94      2552\n",
            "\n"
          ]
        },
        {
          "output_type": "display_data",
          "data": {
            "text/plain": [
              "<Figure size 640x480 with 0 Axes>"
            ]
          },
          "metadata": {}
        },
        {
          "output_type": "display_data",
          "data": {
            "text/plain": [
              "<Figure size 640x480 with 2 Axes>"
            ],
            "image/png": "[encoded data removed]"
          },
          "metadata": {}
        }
      ]
    },
    {
      "cell_type": "markdown",
      "source": [
        "**3. Naive Bayes**"
      ],
      "metadata": {
        "id": "yT8NIlWyAJGh"
      }
    },
    {
      "cell_type": "code",
      "source": [
        "# تعريف موديل Naive Bayes\n",
        "model = GaussianNB()\n",
        "\n",
        "# تدريب الموديل\n",
        "print(\"\\nTraining Naive Bayes...\")\n",
        "model.fit(X_train, y_train)\n",
        "y_pred3 = model.predict(X_test)\n",
        "\n",
        "# حساب الدقة والتقرير\n",
        "accuracy = accuracy_score(y_test, y_pred3)\n",
        "report = classification_report(y_test, y_pred3, zero_division=1)\n",
        "\n",
        "# طباعة الدقة والتقرير\n",
        "print(f\"Naive Bayes Accuracy: {accuracy:.4f}\")\n",
        "print(f\"Naive Bayes Classification Report:\\n{report}\")\n",
        "\n",
        "# رسم مصفوفة الالتباس\n",
        "cm = confusion_matrix(y_test, y_pred3)\n",
        "disp = ConfusionMatrixDisplay(confusion_matrix=cm)\n",
        "\n",
        "# فتح نافذة جديدة للرسم البياني\n",
        "plt.figure()\n",
        "disp.plot()\n",
        "plt.title(\"Confusion Matrix for Naive Bayes\")\n",
        "plt.show()\n"
      ],
      "metadata": {
        "colab": {
          "base_uri": "https://localhost:8080/",
          "height": 715
        },
        "id": "q8eri5tkAKIn",
        "outputId": "3d3d5bff-dec1-4175-9a6e-e43fa1f07e0c"
      },
      "execution_count": 49,
      "outputs": [
        {
          "output_type": "stream",
          "name": "stdout",
          "text": [
            "\n",
            "Training Naive Bayes...\n",
            "Naive Bayes Accuracy: 0.9408\n",
            "Naive Bayes Classification Report:\n",
            "              precision    recall  f1-score   support\n",
            "\n",
            "           0       0.81      1.00      0.90       649\n",
            "           1       1.00      0.92      0.96      1903\n",
            "\n",
            "    accuracy                           0.94      2552\n",
            "   macro avg       0.91      0.96      0.93      2552\n",
            "weighted avg       0.95      0.94      0.94      2552\n",
            "\n"
          ]
        },
        {
          "output_type": "display_data",
          "data": {
            "text/plain": [
              "<Figure size 640x480 with 0 Axes>"
            ]
          },
          "metadata": {}
        },
        {
          "output_type": "display_data",
          "data": {
            "text/plain": [
              "<Figure size 640x480 with 2 Axes>"
            ],
            "image/png": "[encoded data removed]"
          },
          "metadata": {}
        }
      ]
    },
    {
      "cell_type": "markdown",
      "source": [
        "**4. GradientBoostingClassifier**"
      ],
      "metadata": {
        "id": "cJUZq_PiOnaK"
      }
    },
    {
      "cell_type": "code",
      "source": [
        "# Create the Gradient Boosting model\n",
        "gb_model = GradientBoostingClassifier(n_estimators=100, learning_rate=0.1, max_depth=3, random_state=42)\n",
        "\n",
        "# Train the model\n",
        "gb_model.fit(X_train, y_train)\n",
        "# Make predictions on the test set\n",
        "y_pred4 = gb_model.predict(X_test)\n",
        "# Calculate accuracy\n",
        "accuracy = accuracy_score(y_test, y_pred4)\n",
        "print(f'Accuracy: {accuracy * 100:.2f}%')\n",
        "# رسم مصفوفة الالتباس\n",
        "cm = confusion_matrix(y_test, y_pred4)\n",
        "disp = ConfusionMatrixDisplay(confusion_matrix=cm)\n",
        "\n",
        "# فتح نافذة جديدة للرسم البياني\n",
        "plt.figure()\n",
        "disp.plot()\n",
        "plt.title(\"Confusion Matrix for Random Forest\")\n",
        "plt.show()\n",
        "\n"
      ],
      "metadata": {
        "colab": {
          "base_uri": "https://localhost:8080/",
          "height": 507
        },
        "id": "ijdoxc_qOnyf",
        "outputId": "b50858b2-61b0-419e-ffa2-9d06b896e156"
      },
      "execution_count": 50,
      "outputs": [
        {
          "output_type": "stream",
          "name": "stdout",
          "text": [
            "Accuracy: 94.08%\n"
          ]
        },
        {
          "output_type": "display_data",
          "data": {
            "text/plain": [
              "<Figure size 640x480 with 0 Axes>"
            ]
          },
          "metadata": {}
        },
        {
          "output_type": "display_data",
          "data": {
            "text/plain": [
              "<Figure size 640x480 with 2 Axes>"
            ],
            "image/png": "[encoded data removed]"
          },
          "metadata": {}
        }
      ]
    },
    {
      "cell_type": "markdown",
      "source": [
        "**5. Random Forest**"
      ],
      "metadata": {
        "id": "PCQt2K-i9Ef3"
      }
    },
    {
      "cell_type": "code",
      "source": [
        "\n",
        "# تعريف موديل Random Forest\n",
        "model = RandomForestClassifier(random_state=42)\n",
        "\n",
        "# تدريب الموديل\n",
        "print(\"\\nTraining Random Forest...\")\n",
        "model.fit(X_train, y_train)\n",
        "y_pred5 = model.predict(X_test)\n",
        "\n",
        "# حساب الدقة والتقرير\n",
        "accuracy = accuracy_score(y_test, y_pred5)\n",
        "report = classification_report(y_test, y_pred5, zero_division=1)\n",
        "\n",
        "# طباعة الدقة والتقرير\n",
        "print(f\"Random Forest Accuracy: {accuracy:.4f}\")\n",
        "print(f\"Random Forest Classification Report:\\n{report}\")\n",
        "\n",
        "# رسم مصفوفة الالتباس\n",
        "cm = confusion_matrix(y_test, y_pred5)\n",
        "disp = ConfusionMatrixDisplay(confusion_matrix=cm)\n",
        "\n",
        "# فتح نافذة جديدة للرسم البياني\n",
        "plt.figure()\n",
        "disp.plot()\n",
        "plt.title(\"Confusion Matrix for Random Forest\")\n",
        "plt.show()\n"
      ],
      "metadata": {
        "colab": {
          "base_uri": "https://localhost:8080/",
          "height": 715
        },
        "id": "N7DWethd9Duq",
        "outputId": "679f75a8-42d4-47af-cfd5-913cb8e8ebce"
      },
      "execution_count": 51,
      "outputs": [
        {
          "output_type": "stream",
          "name": "stdout",
          "text": [
            "\n",
            "Training Random Forest...\n",
            "Random Forest Accuracy: 0.9377\n",
            "Random Forest Classification Report:\n",
            "              precision    recall  f1-score   support\n",
            "\n",
            "           0       0.82      0.97      0.89       649\n",
            "           1       0.99      0.93      0.96      1903\n",
            "\n",
            "    accuracy                           0.94      2552\n",
            "   macro avg       0.90      0.95      0.92      2552\n",
            "weighted avg       0.95      0.94      0.94      2552\n",
            "\n"
          ]
        },
        {
          "output_type": "display_data",
          "data": {
            "text/plain": [
              "<Figure size 640x480 with 0 Axes>"
            ]
          },
          "metadata": {}
        },
        {
          "output_type": "display_data",
          "data": {
            "text/plain": [
              "<Figure size 640x480 with 2 Axes>"
            ],
            "image/png": "[encoded data removed]"
          },
          "metadata": {}
        }
      ]
    },
    {
      "cell_type": "markdown",
      "source": [
        "**6. XGBoost**"
      ],
      "metadata": {
        "id": "ooW3tUvd9vqO"
      }
    },
    {
      "cell_type": "code",
      "source": [
        "\n",
        "# تعريف موديل XGBoost\n",
        "model = XGBClassifier(random_state=42)\n",
        "\n",
        "# تدريب الموديل\n",
        "print(\"\\nTraining XGBoost...\")\n",
        "model.fit(X_train, y_train)\n",
        "y_pred6 = model.predict(X_test)\n",
        "\n",
        "# حساب الدقة والتقرير\n",
        "accuracy = accuracy_score(y_test, y_pred6)\n",
        "report = classification_report(y_test, y_pred6, zero_division=1)\n",
        "\n",
        "# طباعة الدقة والتقرير\n",
        "print(f\"XGBoost Accuracy: {accuracy:.4f}\")\n",
        "print(f\"XGBoost Classification Report:\\n{report}\")\n",
        "\n",
        "# رسم مصفوفة الالتباس\n",
        "cm = confusion_matrix(y_test, y_pred6)\n",
        "disp = ConfusionMatrixDisplay(confusion_matrix=cm)\n",
        "\n",
        "# فتح نافذة جديدة للرسم البياني\n",
        "plt.figure()\n",
        "disp.plot()\n",
        "plt.title(\"Confusion Matrix for XGBoost\")\n",
        "plt.show()\n"
      ],
      "metadata": {
        "colab": {
          "base_uri": "https://localhost:8080/",
          "height": 715
        },
        "id": "e1k6023i9vKE",
        "outputId": "cbb4b544-6c66-4a20-ff6d-33c0c79446e0"
      },
      "execution_count": 52,
      "outputs": [
        {
          "output_type": "stream",
          "name": "stdout",
          "text": [
            "\n",
            "Training XGBoost...\n",
            "XGBoost Accuracy: 0.9295\n",
            "XGBoost Classification Report:\n",
            "              precision    recall  f1-score   support\n",
            "\n",
            "           0       0.81      0.95      0.87       649\n",
            "           1       0.98      0.92      0.95      1903\n",
            "\n",
            "    accuracy                           0.93      2552\n",
            "   macro avg       0.89      0.93      0.91      2552\n",
            "weighted avg       0.94      0.93      0.93      2552\n",
            "\n"
          ]
        },
        {
          "output_type": "display_data",
          "data": {
            "text/plain": [
              "<Figure size 640x480 with 0 Axes>"
            ]
          },
          "metadata": {}
        },
        {
          "output_type": "display_data",
          "data": {
            "text/plain": [
              "<Figure size 640x480 with 2 Axes>"
            ],
            "image/png": "[encoded data removed]"
          },
          "metadata": {}
        }
      ]
    },
    {
      "cell_type": "markdown",
      "source": [
        "**7. Decision Tree**"
      ],
      "metadata": {
        "id": "vg5b4E7G-kAP"
      }
    },
    {
      "cell_type": "code",
      "source": [
        "\n",
        "# تعريف موديل Decision Tree\n",
        "model = DecisionTreeClassifier(random_state=42)\n",
        "\n",
        "# تدريب الموديل\n",
        "print(\"\\nTraining Decision Tree...\")\n",
        "model.fit(X_train, y_train)\n",
        "y_pred7 = model.predict(X_test)\n",
        "\n",
        "# حساب الدقة والتقرير\n",
        "accuracy = accuracy_score(y_test, y_pred7)\n",
        "report = classification_report(y_test, y_pred7, zero_division=1)\n",
        "\n",
        "# طباعة الدقة والتقرير\n",
        "print(f\"Decision Tree Accuracy: {accuracy:.4f}\")\n",
        "print(f\"Decision Tree Classification Report:\\n{report}\")\n",
        "\n",
        "# رسم مصفوفة الالتباس\n",
        "cm = confusion_matrix(y_test, y_pred7)\n",
        "disp = ConfusionMatrixDisplay(confusion_matrix=cm)\n",
        "\n",
        "# فتح نافذة جديدة للرسم البياني\n",
        "plt.figure()\n",
        "disp.plot()\n",
        "plt.title(\"Confusion Matrix for Decision Tree\")\n",
        "plt.show()\n"
      ],
      "metadata": {
        "colab": {
          "base_uri": "https://localhost:8080/",
          "height": 715
        },
        "id": "J1FthwwH-jlP",
        "outputId": "3f58d594-f54e-43b3-9e28-a6474e20f6c9"
      },
      "execution_count": 53,
      "outputs": [
        {
          "output_type": "stream",
          "name": "stdout",
          "text": [
            "\n",
            "Training Decision Tree...\n",
            "Decision Tree Accuracy: 0.9075\n",
            "Decision Tree Classification Report:\n",
            "              precision    recall  f1-score   support\n",
            "\n",
            "           0       0.82      0.81      0.82       649\n",
            "           1       0.94      0.94      0.94      1903\n",
            "\n",
            "    accuracy                           0.91      2552\n",
            "   macro avg       0.88      0.88      0.88      2552\n",
            "weighted avg       0.91      0.91      0.91      2552\n",
            "\n"
          ]
        },
        {
          "output_type": "display_data",
          "data": {
            "text/plain": [
              "<Figure size 640x480 with 0 Axes>"
            ]
          },
          "metadata": {}
        },
        {
          "output_type": "display_data",
          "data": {
            "text/plain": [
              "<Figure size 640x480 with 2 Axes>"
            ],
            "image/png": "[encoded data removed]"
          },
          "metadata": {}
        }
      ]
    },
    {
      "cell_type": "markdown",
      "source": [
        "**8.KNN**"
      ],
      "metadata": {
        "id": "v6A96ykp-1F8"
      }
    },
    {
      "cell_type": "code",
      "source": [
        "# تعريف موديل KNN\n",
        "model = KNeighborsClassifier()\n",
        "\n",
        "# تدريب الموديل\n",
        "print(\"\\nTraining KNN...\")\n",
        "model.fit(X_train, y_train)\n",
        "y_pred8 = model.predict(X_test)\n",
        "\n",
        "# حساب الدقة والتقرير\n",
        "accuracy = accuracy_score(y_test, y_pred8)\n",
        "report = classification_report(y_test, y_pred8, zero_division=1)\n",
        "\n",
        "# طباعة الدقة والتقرير\n",
        "print(f\"KNN Accuracy: {accuracy:.4f}\")\n",
        "print(f\"KNN Classification Report:\\n{report}\")\n",
        "\n",
        "# رسم مصفوفة الالتباس\n",
        "cm = confusion_matrix(y_test, y_pred8)\n",
        "disp = ConfusionMatrixDisplay(confusion_matrix=cm)\n",
        "\n",
        "# فتح نافذة جديدة للرسم البياني\n",
        "plt.figure()\n",
        "disp.plot()\n",
        "plt.title(\"Confusion Matrix for KNN\")\n",
        "plt.show()\n"
      ],
      "metadata": {
        "colab": {
          "base_uri": "https://localhost:8080/",
          "height": 715
        },
        "id": "gGf5fcnx-za_",
        "outputId": "cd91610b-441d-43c5-d9d2-06c53356c822"
      },
      "execution_count": 55,
      "outputs": [
        {
          "output_type": "stream",
          "name": "stdout",
          "text": [
            "\n",
            "Training KNN...\n",
            "KNN Accuracy: 0.7390\n",
            "KNN Classification Report:\n",
            "              precision    recall  f1-score   support\n",
            "\n",
            "           0       0.49      0.43      0.46       649\n",
            "           1       0.81      0.84      0.83      1903\n",
            "\n",
            "    accuracy                           0.74      2552\n",
            "   macro avg       0.65      0.64      0.64      2552\n",
            "weighted avg       0.73      0.74      0.73      2552\n",
            "\n"
          ]
        },
        {
          "output_type": "display_data",
          "data": {
            "text/plain": [
              "<Figure size 640x480 with 0 Axes>"
            ]
          },
          "metadata": {}
        },
        {
          "output_type": "display_data",
          "data": {
            "text/plain": [
              "<Figure size 640x480 with 2 Axes>"
            ],
            "image/png": "[encoded data removed]"
          },
          "metadata": {}
        }
      ]
    },
    {
      "cell_type": "markdown",
      "source": [
        "**COMPAREZATION**"
      ],
      "metadata": {
        "id": "cTAJExvn6Oku"
      }
    },
    {
      "cell_type": "code",
      "source": [
        "models = ['Logistic Regression','SVM',\"Naive Bayes\",'GradientBoostingClassifier','Random Forest' ,'XGBoost','Decision Tree', 'KNN']\n",
        "accuracies = [accuracy_score(y_test, y_pred1),\n",
        "              accuracy_score(y_test, y_pred2),\n",
        "              accuracy_score(y_test, y_pred3),\n",
        "              accuracy_score(y_test, y_pred4),\n",
        "              accuracy_score(y_test, y_pred5),\n",
        "              accuracy_score(y_test, y_pred6),\n",
        "              accuracy_score(y_test, y_pred7),\n",
        "              accuracy_score(y_test, y_pred8)]\n",
        "\n",
        "for model, score in zip(models, accuracies):\n",
        "    print(f\"{model:<20} | Accuracy: {score:.4f}\")\n",
        "\n"
      ],
      "metadata": {
        "colab": {
          "base_uri": "https://localhost:8080/"
        },
        "id": "L-3LLJBI6Ez1",
        "outputId": "21ce0eee-66fe-44c2-e241-2f4e18614ce5"
      },
      "execution_count": 57,
      "outputs": [
        {
          "output_type": "stream",
          "name": "stdout",
          "text": [
            "Logistic Regression  | Accuracy: 0.9412\n",
            "SVM                  | Accuracy: 0.9408\n",
            "Naive Bayes          | Accuracy: 0.9408\n",
            "GradientBoostingClassifier | Accuracy: 0.9408\n",
            "Random Forest        | Accuracy: 0.9377\n",
            "XGBoost              | Accuracy: 0.9295\n",
            "Decision Tree        | Accuracy: 0.9075\n",
            "KNN                  | Accuracy: 0.7390\n"
          ]
        }
      ]
    },
    {
      "cell_type": "code",
      "source": [
        "# Print each model with its accuracy\n",
        "print(\"Models Performance:\\n\")\n",
        "for model, score in zip(models, accuracies):\n",
        "    print(f\"{model} => Accuracy: {score:.4f}\")\n",
        "\n",
        "# Select the Best Model Automatically\n",
        "best_index = accuracies.index(max(accuracies))\n",
        "best_model = models[best_index]\n",
        "best_accuracy = accuracies[best_index]\n",
        "\n",
        "print(\"\\nThe Best Model is:\", best_model)\n",
        "print(\"With Accuracy:\", best_accuracy)\n",
        "\n",
        "# Create DataFrame for Visualization\n",
        "results = pd.DataFrame({'Model': models, 'Accuracy': accuracies})\n",
        "results = results.sort_values(by='Accuracy', ascending=False).reset_index(drop=True)\n",
        "\n",
        "# Display results as a table\n",
        "print(\"\\nModels Accuracy Table:\")\n",
        "print(results)\n"
      ],
      "metadata": {
        "colab": {
          "base_uri": "https://localhost:8080/"
        },
        "id": "_79taGXt70S3",
        "outputId": "de3db5b7-c2c9-4ba3-fb10-1207a634cb7d"
      },
      "execution_count": 58,
      "outputs": [
        {
          "output_type": "stream",
          "name": "stdout",
          "text": [
            "Models Performance:\n",
            "\n",
            "Logistic Regression => Accuracy: 0.9412\n",
            "SVM => Accuracy: 0.9408\n",
            "Naive Bayes => Accuracy: 0.9408\n",
            "GradientBoostingClassifier => Accuracy: 0.9408\n",
            "Random Forest => Accuracy: 0.9377\n",
            "XGBoost => Accuracy: 0.9295\n",
            "Decision Tree => Accuracy: 0.9075\n",
            "KNN => Accuracy: 0.7390\n",
            "\n",
            "The Best Model is: Logistic Regression\n",
            "With Accuracy: 0.9412225705329154\n",
            "\n",
            "Models Accuracy Table:\n",
            "                        Model  Accuracy\n",
            "0         Logistic Regression  0.941223\n",
            "1                         SVM  0.940831\n",
            "2                 Naive Bayes  0.940831\n",
            "3  GradientBoostingClassifier  0.940831\n",
            "4               Random Forest  0.937696\n",
            "5                     XGBoost  0.929467\n",
            "6               Decision Tree  0.907524\n",
            "7                         KNN  0.739028\n"
          ]
        }
      ]
    },
    {
      "cell_type": "code",
      "source": [
        "\n",
        "# Visualization\n",
        "plt.figure(figsize=(12,6))\n",
        "sns.barplot(x='Accuracy', y='Model', data=results, palette='Set1')\n",
        "plt.title('Comparison of Models Accuracy', fontsize=14)\n",
        "plt.xlabel('Accuracy Score')\n",
        "plt.ylabel('Models')\n",
        "plt.axvline(best_accuracy, color='red', linestyle='--', label=f'Best Accuracy ({best_accuracy:.4f})')\n",
        "plt.legend()\n",
        "plt.show()\n"
      ],
      "metadata": {
        "colab": {
          "base_uri": "https://localhost:8080/",
          "height": 653
        },
        "id": "sPMimB3b6krN",
        "outputId": "1f84dd6b-4758-4e0f-be18-51a0eafd6f3c"
      },
      "execution_count": 59,
      "outputs": [
        {
          "output_type": "stream",
          "name": "stderr",
          "text": [
            "<ipython-input-59-7096418104ff>:3: FutureWarning: \n",
            "\n",
            "Passing `palette` without assigning `hue` is deprecated and will be removed in v0.14.0. Assign the `y` variable to `hue` and set `legend=False` for the same effect.\n",
            "\n",
            "  sns.barplot(x='Accuracy', y='Model', data=results, palette='Set1')\n"
          ]
        },
        {
          "output_type": "display_data",
          "data": {
            "text/plain": [
              "<Figure size 1200x600 with 1 Axes>"
            ],
            "image/png": "[encoded data removed]"
          },
          "metadata": {}
        }
      ]
    },
    {
      "cell_type": "markdown",
      "source": [
        "**Hyperparameters Tuning**"
      ],
      "metadata": {
        "id": "nEl2mW5EEz7q"
      }
    },
    {
      "cell_type": "markdown",
      "source": [
        "**1. Hyperparameter Tuning for Logistic Regression**"
      ],
      "metadata": {
        "id": "LTd9RYcgBInA"
      }
    },
    {
      "cell_type": "code",
      "source": [
        "# Define the model\n",
        "model = LogisticRegression(solver='liblinear')\n",
        "\n",
        "# Define the hyperparameter space\n",
        "param_dist = {\n",
        "    'C': uniform(0.01, 10),  # Randomly select C between 0.01 and 10\n",
        "    'penalty': ['l1', 'l2'],  # L1 or L2 penalty\n",
        "    'max_iter': [100, 200, 300, 400],  # Number of iterations\n",
        "}\n",
        "\n",
        "# Perform RandomizedSearchCV\n",
        "random_search = RandomizedSearchCV(model, param_distributions=param_dist, n_iter=100, cv=5, scoring='accuracy', random_state=42)\n",
        "random_search.fit(X_train, y_train)\n",
        "\n",
        "# Get best parameters and best score\n",
        "print(f\"Best Parameters: {random_search.best_params_}\")\n",
        "print(f\"Best Score: {random_search.best_score_:.4f}\")\n"
      ],
      "metadata": {
        "colab": {
          "base_uri": "https://localhost:8080/"
        },
        "id": "KVRP70kkAZQ5",
        "outputId": "22b31458-9601-428d-9560-3e99f8cdbc92"
      },
      "execution_count": 61,
      "outputs": [
        {
          "output_type": "stream",
          "name": "stdout",
          "text": [
            "Best Parameters: {'C': np.float64(0.06522117123602399), 'max_iter': 300, 'penalty': 'l1'}\n",
            "Best Score: 0.9373\n"
          ]
        }
      ]
    },
    {
      "cell_type": "markdown",
      "source": [
        "**2. Hyperparameter Tuning for SVM**"
      ],
      "metadata": {
        "id": "JGSEA2VUB-IO"
      }
    },
    {
      "cell_type": "code",
      "source": [
        "# Define the model\n",
        "model = SVC()\n",
        "\n",
        "# Define the parameter grid with a smaller range\n",
        "param_grid = {\n",
        "    'C': [1, 10],  # Reduce the range of C\n",
        "    'kernel': ['linear', 'rbf'],  # Only use 'linear' and 'rbf' kernels\n",
        "    'gamma': ['scale', 'auto'],  # Use predefined options for gamma\n",
        "    'class_weight': [None, 'balanced']  # Class weights\n",
        "}\n",
        "\n",
        "# Initialize GridSearchCV with 3-fold cross-validation\n",
        "grid_search = GridSearchCV(model, param_grid, cv=3, n_jobs=-1, verbose=1)\n",
        "\n",
        "# Fit the model\n",
        "grid_search.fit(X_train, y_train)\n",
        "\n",
        "# Get best parameters and score\n",
        "print(f\"Best Parameters: {grid_search.best_params_}\")\n",
        "print(f\"Best Score: {grid_search.best_score_:.4f}\")"
      ],
      "metadata": {
        "colab": {
          "base_uri": "https://localhost:8080/"
        },
        "id": "1Z_17jloB-qE",
        "outputId": "c9227e6c-ad5b-405f-f0f1-61fb4866cd78"
      },
      "execution_count": 63,
      "outputs": [
        {
          "output_type": "stream",
          "name": "stdout",
          "text": [
            "Fitting 3 folds for each of 16 candidates, totalling 48 fits\n",
            "Best Parameters: {'C': 1, 'class_weight': None, 'gamma': 'scale', 'kernel': 'linear'}\n",
            "Best Score: 0.9372\n"
          ]
        }
      ]
    },
    {
      "cell_type": "markdown",
      "source": [
        "**3. Hyperparameter Tuning for Naive Bayes**"
      ],
      "metadata": {
        "id": "TBMNHRPBCyrO"
      }
    },
    {
      "cell_type": "code",
      "source": [
        "# Define the model\n",
        "model = GaussianNB()\n",
        "\n",
        "# Define the parameter grid\n",
        "param_grid = {\n",
        "    'var_smoothing': [1e-9, 1e-8, 1e-7]  # Smoothing parameter\n",
        "}\n",
        "\n",
        "# Perform Grid Search\n",
        "grid_search = GridSearchCV(model, param_grid, cv=5, scoring='accuracy')\n",
        "grid_search.fit(X_train, y_train)\n",
        "\n",
        "# Get best parameters and score\n",
        "print(f\"Best Parameters: {grid_search.best_params_}\")\n",
        "print(f\"Best Score: {grid_search.best_score_:.4f}\")\n"
      ],
      "metadata": {
        "colab": {
          "base_uri": "https://localhost:8080/"
        },
        "id": "9M59S4JpCzeF",
        "outputId": "9ce68498-9921-44b8-a75d-8f9ec9ea8976"
      },
      "execution_count": 65,
      "outputs": [
        {
          "output_type": "stream",
          "name": "stdout",
          "text": [
            "Best Parameters: {'var_smoothing': 1e-09}\n",
            "Best Score: 0.9372\n"
          ]
        }
      ]
    },
    {
      "cell_type": "markdown",
      "source": [
        "\n",
        "**4. Hyperparameter Tuning for GradientBoostingClassifier**\n"
      ],
      "metadata": {
        "id": "-BpAS8X-FLXQ"
      }
    },
    {
      "cell_type": "code",
      "source": [
        "# Define the Gradient Boosting model\n",
        "gb_model = GradientBoostingClassifier(random_state=42)\n",
        "\n",
        "# Define the hyperparameters to tune\n",
        "param_grid = {\n",
        "    'n_estimators': [50, 100, 150],  # Number of trees\n",
        "    'learning_rate': [0.01, 0.1, 0.2],  # Learning rate\n",
        "    'max_depth': [3, 4, 5],  # Maximum depth of the tree\n",
        "    'min_samples_split': [2, 5, 10],  # Minimum number of samples required to split an internal node\n",
        "    'subsample': [0.8, 0.9, 1.0]  # Proportion of the data used for each tree\n",
        "}\n",
        "\n",
        "# Use GridSearchCV to find the best hyperparameters\n",
        "grid_search = GridSearchCV(estimator=gb_model, param_grid=param_grid, cv=3, n_jobs=-1, verbose=1)\n",
        "\n",
        "# Fit the GridSearch model\n",
        "grid_search.fit(X_train, y_train)\n",
        "\n",
        "# Display the best hyperparameters\n",
        "print(\"Best Parameters:\", grid_search.best_params_)\n",
        "\n",
        "# Predict using the best model\n",
        "y_pred = grid_search.best_estimator_.predict(X_test)\n",
        "\n",
        "# Evaluate the model\n",
        "accuracy = accuracy_score(y_test, y_pred)\n",
        "print(f'Accuracy: {accuracy * 100:.2f}%')\n"
      ],
      "metadata": {
        "colab": {
          "base_uri": "https://localhost:8080/"
        },
        "id": "6H48aebuFLxH",
        "outputId": "5d550777-2a52-45db-b334-b9add5782fc9"
      },
      "execution_count": 66,
      "outputs": [
        {
          "output_type": "stream",
          "name": "stdout",
          "text": [
            "Fitting 3 folds for each of 243 candidates, totalling 729 fits\n",
            "Best Parameters: {'learning_rate': 0.1, 'max_depth': 3, 'min_samples_split': 5, 'n_estimators': 150, 'subsample': 1.0}\n",
            "Accuracy: 93.97%\n"
          ]
        }
      ]
    },
    {
      "cell_type": "markdown",
      "source": [
        "**5. Hyperparameter Tuning for Random Forest**"
      ],
      "metadata": {
        "id": "ehUDZv27Btv9"
      }
    },
    {
      "cell_type": "code",
      "source": [
        "# Define the model\n",
        "model = RandomForestClassifier(random_state=42)\n",
        "\n",
        "# Define the parameter grid\n",
        "param_grid = {\n",
        "    'n_estimators': [50, 100, 200],  # Number of trees\n",
        "    'max_depth': [None, 10, 20, 30],  # Maximum depth of the trees\n",
        "    'min_samples_split': [2, 5, 10],  # Minimum samples required to split an internal node\n",
        "    'min_samples_leaf': [1, 2, 4]  # Minimum samples required to be at a leaf node\n",
        "}\n",
        "\n",
        "# Perform Grid Search\n",
        "grid_search = GridSearchCV(model, param_grid, cv=5, scoring='accuracy')\n",
        "grid_search.fit(X_train, y_train)\n",
        "\n",
        "# Get best parameters and score\n",
        "print(f\"Best Parameters: {grid_search.best_params_}\")\n",
        "print(f\"Best Score: {grid_search.best_score_:.4f}\")\n"
      ],
      "metadata": {
        "colab": {
          "base_uri": "https://localhost:8080/"
        },
        "id": "XmmHzr4gAZPb",
        "outputId": "59e55db9-5cdb-48cc-8463-84b4630951cf"
      },
      "execution_count": 67,
      "outputs": [
        {
          "output_type": "stream",
          "name": "stdout",
          "text": [
            "Best Parameters: {'max_depth': 10, 'min_samples_leaf': 1, 'min_samples_split': 2, 'n_estimators': 200}\n",
            "Best Score: 0.9374\n"
          ]
        }
      ]
    },
    {
      "cell_type": "markdown",
      "source": [
        "**6. Hyperparameter Tuning for XGBoost**"
      ],
      "metadata": {
        "id": "kfnffzUUCbkV"
      }
    },
    {
      "cell_type": "code",
      "source": [
        "# Define the model\n",
        "model = XGBClassifier(random_state=42)\n",
        "\n",
        "# Define the parameter grid\n",
        "param_grid = {\n",
        "    'learning_rate': [0.01, 0.05, 0.1],  # Learning rate\n",
        "    'n_estimators': [100, 200, 300],  # Number of boosting rounds\n",
        "    'max_depth': [3, 6, 10],  # Maximum depth of trees\n",
        "    'subsample': [0.8, 0.9, 1.0],  # Subsample ratio\n",
        "    'colsample_bytree': [0.8, 0.9, 1.0]  # Subsample ratio of features\n",
        "}\n",
        "\n",
        "# Perform Grid Search\n",
        "grid_search = GridSearchCV(model, param_grid, cv=5, scoring='accuracy')\n",
        "grid_search.fit(X_train, y_train)\n",
        "\n",
        "# Get best parameters and score\n",
        "print(f\"Best Parameters: {grid_search.best_params_}\")\n",
        "print(f\"Best Score: {grid_search.best_score_:.4f}\")\n"
      ],
      "metadata": {
        "colab": {
          "base_uri": "https://localhost:8080/"
        },
        "id": "6wq7azIJAZNt",
        "outputId": "97233205-8dd0-405a-e001-e6cf36595664"
      },
      "execution_count": 68,
      "outputs": [
        {
          "output_type": "stream",
          "name": "stdout",
          "text": [
            "Best Parameters: {'colsample_bytree': 0.8, 'learning_rate': 0.05, 'max_depth': 3, 'n_estimators': 300, 'subsample': 0.9}\n",
            "Best Score: 0.9373\n"
          ]
        }
      ]
    },
    {
      "cell_type": "markdown",
      "source": [
        "**7. Hyperparameter Tuning for Decision Tree**"
      ],
      "metadata": {
        "id": "IZG1WDBFDR8q"
      }
    },
    {
      "cell_type": "code",
      "source": [
        "# Define the model\n",
        "model = DecisionTreeClassifier(random_state=42)\n",
        "\n",
        "# Define the parameter grid\n",
        "param_grid = {\n",
        "    'max_depth': [None, 10, 20, 30],  # Maximum depth of the tree\n",
        "    'min_samples_split': [2, 5, 10],  # Minimum samples required to split an internal node\n",
        "    'min_samples_leaf': [1, 2, 4],  # Minimum samples required to be at a leaf node\n",
        "    'criterion': ['gini', 'entropy']  # Function to measure the quality of a split\n",
        "}\n",
        "\n",
        "# Perform Grid Search\n",
        "grid_search = GridSearchCV(model, param_grid, cv=5, scoring='accuracy')\n",
        "grid_search.fit(X_train, y_train)\n",
        "\n",
        "# Get best parameters and score\n",
        "print(f\"Best Parameters: {grid_search.best_params_}\")\n",
        "print(f\"Best Score: {grid_search.best_score_:.4f}\")\n"
      ],
      "metadata": {
        "colab": {
          "base_uri": "https://localhost:8080/"
        },
        "id": "XSgqA_zjAYzq",
        "outputId": "b6d045e9-23ad-427e-b6d8-9ddfeb463eb8"
      },
      "execution_count": 69,
      "outputs": [
        {
          "output_type": "stream",
          "name": "stdout",
          "text": [
            "Best Parameters: {'criterion': 'entropy', 'max_depth': 10, 'min_samples_leaf': 2, 'min_samples_split': 2}\n",
            "Best Score: 0.9338\n"
          ]
        }
      ]
    },
    {
      "cell_type": "markdown",
      "source": [
        "**8. Hyperparameter Tuning for KNN**"
      ],
      "metadata": {
        "id": "tXLHbdeCDZ96"
      }
    },
    {
      "cell_type": "code",
      "source": [
        "# Define the model\n",
        "model = KNeighborsClassifier()\n",
        "\n",
        "# Define the parameter grid\n",
        "param_grid = {\n",
        "    'n_neighbors': [3, 5, 7, 9],  # Number of neighbors\n",
        "    'weights': ['uniform', 'distance'],  # Weight function used in prediction\n",
        "    'metric': ['euclidean', 'manhattan']  # Distance metric\n",
        "}\n",
        "\n",
        "# Perform Grid Search\n",
        "grid_search = GridSearchCV(model, param_grid, cv=5, scoring='accuracy')\n",
        "grid_search.fit(X_train, y_train)\n",
        "\n",
        "# Get best parameters and score\n",
        "print(f\"Best Parameters: {grid_search.best_params_}\")\n",
        "print(f\"Best Score: {grid_search.best_score_:.4f}\")\n"
      ],
      "metadata": {
        "colab": {
          "base_uri": "https://localhost:8080/"
        },
        "id": "j_96PWL9De4h",
        "outputId": "7e284ad2-69ee-4f32-8756-73471694ff07"
      },
      "execution_count": 70,
      "outputs": [
        {
          "output_type": "stream",
          "name": "stdout",
          "text": [
            "Best Parameters: {'metric': 'manhattan', 'n_neighbors': 9, 'weights': 'distance'}\n",
            "Best Score: 0.8001\n"
          ]
        }
      ]
    },
    {
      "cell_type": "markdown",
      "source": [
        "**Model Performance Comparison and Evaluation with Hyperparameter Tuning**"
      ],
      "metadata": {
        "id": "VwX_lIyOGH1v"
      }
    },
    {
      "cell_type": "code",
      "source": [
        "import matplotlib.pyplot as plt\n",
        "import pandas as pd\n",
        "import numpy as np\n",
        "\n",
        "# Best parameters and best scores\n",
        "model_performance = {\n",
        "    'Logistic Regression': {'Best Parameters': {'C': 0.065, 'max_iter': 300, 'penalty': 'l1'}, 'Best Score': 0.9373},\n",
        "    'SVM': {'Best Parameters': {'C': 1, 'class_weight': None, 'gamma': 'scale', 'kernel': 'linear'}, 'Best Score': 0.9372},\n",
        "    'Naive Bayes': {'Best Parameters': {'var_smoothing': 1e-09}, 'Best Score': 0.9372},\n",
        "    'Gradient Boosting': {'Best Parameters': {'learning_rate': 0.1, 'max_depth': 3, 'min_samples_split': 5, 'n_estimators': 150, 'subsample': 1.0}, 'Best Score': 0.9397},\n",
        "    'Random Forest': {'Best Parameters': {'max_depth': 10, 'min_samples_leaf': 1, 'min_samples_split': 2, 'n_estimators': 200}, 'Best Score': 0.9374},\n",
        "    'XGBoost': {'Best Parameters': {'colsample_bytree': 0.8, 'learning_rate': 0.05, 'max_depth': 3, 'n_estimators': 300, 'subsample': 0.9}, 'Best Score': 0.9373},\n",
        "    'Decision Tree': {'Best Parameters': {'criterion': 'entropy', 'max_depth': 10, 'min_samples_leaf': 2, 'min_samples_split': 2}, 'Best Score': 0.9338},\n",
        "    'KNN': {'Best Parameters': {'metric': 'manhattan', 'n_neighbors': 9, 'weights': 'distance'}, 'Best Score': 0.8001}\n",
        "}\n",
        "\n",
        "# Convert to DataFrame for easy comparison\n",
        "df_performance = pd.DataFrame(model_performance).T\n",
        "df_performance = df_performance[['Best Parameters', 'Best Score']]\n",
        "df_performance = df_performance.sort_values(by='Best Score', ascending=False)\n",
        "\n",
        "# Print the comparison table\n",
        "print(df_performance)\n",
        "\n",
        "# Plotting the best scores for each model with enhanced visualization\n",
        "plt.figure(figsize=(10, 6))\n",
        "\n",
        "# Ensure no NaN values and normalize the scores for color scaling\n",
        "best_scores = df_performance['Best Score'].fillna(0)\n",
        "norm = plt.Normalize(vmin=best_scores.min(), vmax=best_scores.max())\n",
        "colors = plt.cm.viridis(norm(best_scores))\n",
        "\n",
        "bars = plt.barh(df_performance.index, best_scores, color=colors, edgecolor='black')\n",
        "\n",
        "# Adding the accuracy text on each bar\n",
        "for bar in bars:\n",
        "    width = bar.get_width()\n",
        "    plt.text(width + 0.002, bar.get_y() + bar.get_height() / 2, f'{width*100:.2f}%', va='center', ha='left', fontsize=10, color='black')\n",
        "\n",
        "# Adding titles and labels\n",
        "plt.xlabel('Accuracy', fontsize=12)\n",
        "plt.ylabel('Models', fontsize=12)\n",
        "plt.title('Model Performance Comparison', fontsize=14, fontweight='bold')\n",
        "plt.tight_layout()\n",
        "\n",
        "# Show the plot\n",
        "plt.show()\n",
        "\n",
        "# Find the best model\n",
        "best_model_name = df_performance.index[0]\n",
        "best_model_score = df_performance['Best Score'].iloc[0]\n",
        "\n",
        "print(f\"\\nThe Best Model after Tuning is: {best_model_name} with Accuracy: {best_model_score * 100:.2f}%\")\n"
      ],
      "metadata": {
        "colab": {
          "base_uri": "https://localhost:8080/",
          "height": 1000
        },
        "id": "cK9j7Mx7E7vN",
        "outputId": "17bd6fb4-1ae7-40cb-fe34-f02b9274c363"
      },
      "execution_count": 77,
      "outputs": [
        {
          "output_type": "stream",
          "name": "stdout",
          "text": [
            "                                                       Best Parameters  \\\n",
            "Gradient Boosting    {'learning_rate': 0.1, 'max_depth': 3, 'min_sa...   \n",
            "Random Forest        {'max_depth': 10, 'min_samples_leaf': 1, 'min_...   \n",
            "Logistic Regression     {'C': 0.065, 'max_iter': 300, 'penalty': 'l1'}   \n",
            "XGBoost              {'colsample_bytree': 0.8, 'learning_rate': 0.0...   \n",
            "SVM                  {'C': 1, 'class_weight': None, 'gamma': 'scale...   \n",
            "Naive Bayes                                   {'var_smoothing': 1e-09}   \n",
            "Decision Tree        {'criterion': 'entropy', 'max_depth': 10, 'min...   \n",
            "KNN                  {'metric': 'manhattan', 'n_neighbors': 9, 'wei...   \n",
            "\n",
            "                    Best Score  \n",
            "Gradient Boosting       0.9397  \n",
            "Random Forest           0.9374  \n",
            "Logistic Regression     0.9373  \n",
            "XGBoost                 0.9373  \n",
            "SVM                     0.9372  \n",
            "Naive Bayes             0.9372  \n",
            "Decision Tree           0.9338  \n",
            "KNN                     0.8001  \n"
          ]
        },
        {
          "output_type": "stream",
          "name": "stderr",
          "text": [
            "<ipython-input-77-9ee394358272>:29: FutureWarning: Downcasting object dtype arrays on .fillna, .ffill, .bfill is deprecated and will change in a future version. Call result.infer_objects(copy=False) instead. To opt-in to the future behavior, set `pd.set_option('future.no_silent_downcasting', True)`\n",
            "  best_scores = df_performance['Best Score'].fillna(0)\n"
          ]
        },
        {
          "output_type": "display_data",
          "data": {
            "text/plain": [
              "<Figure size 1000x600 with 1 Axes>"
            ],
            "image/png": "[encoded data removed]"
          },
          "metadata": {}
        },
        {
          "output_type": "stream",
          "name": "stdout",
          "text": [
            "\n",
            "The Best Model after Tuning is: Gradient Boosting with Accuracy: 93.97%\n"
          ]
        }
      ]
    },
    {
      "cell_type": "code",
      "source": [
        "import joblib\n",
        "joblib.dump(logistic_regression_model, 'Best_Model.pkl')\n"
      ],
      "metadata": {
        "colab": {
          "base_uri": "https://localhost:8080/"
        },
        "id": "afjIDKQJOT9q",
        "outputId": "1043bff6-0c8d-44b3-cb41-55f9cd4a6a45"
      },
      "execution_count": 78,
      "outputs": [
        {
          "output_type": "execute_result",
          "data": {
            "text/plain": [
              "['Best_Model.pkl']"
            ]
          },
          "metadata": {},
          "execution_count": 78
        }
      ]
    },
    {
      "cell_type": "code",
      "source": [],
      "metadata": {
        "id": "JkAF9BSER2L3"
      },
      "execution_count": null,
      "outputs": []
    }
  ]
}